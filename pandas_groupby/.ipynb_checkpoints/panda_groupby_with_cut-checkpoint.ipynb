{
 "cells": [
  {
   "cell_type": "code",
   "execution_count": 1,
   "metadata": {},
   "outputs": [],
   "source": [
    "import numpy as np\n",
    "import pandas as pd"
   ]
  },
  {
   "cell_type": "markdown",
   "metadata": {},
   "source": [
    "# 使用cut结果分组\n",
    "`groupby()`方法传入一个cut的结果也可以按cut结果分组"
   ]
  },
  {
   "cell_type": "code",
   "execution_count": 3,
   "metadata": {},
   "outputs": [
    {
     "data": {
      "text/html": [
       "<div>\n",
       "<style>\n",
       "    .dataframe thead tr:only-child th {\n",
       "        text-align: right;\n",
       "    }\n",
       "\n",
       "    .dataframe thead th {\n",
       "        text-align: left;\n",
       "    }\n",
       "\n",
       "    .dataframe tbody tr th {\n",
       "        vertical-align: top;\n",
       "    }\n",
       "</style>\n",
       "<table border=\"1\" class=\"dataframe\">\n",
       "  <thead>\n",
       "    <tr style=\"text-align: right;\">\n",
       "      <th></th>\n",
       "      <th>0</th>\n",
       "      <th>1</th>\n",
       "      <th>2</th>\n",
       "      <th>3</th>\n",
       "      <th>4</th>\n",
       "    </tr>\n",
       "  </thead>\n",
       "  <tbody>\n",
       "    <tr>\n",
       "      <th>0</th>\n",
       "      <td>0.935281</td>\n",
       "      <td>0.172762</td>\n",
       "      <td>1.911656</td>\n",
       "      <td>-1.388746</td>\n",
       "      <td>0.944704</td>\n",
       "    </tr>\n",
       "    <tr>\n",
       "      <th>1</th>\n",
       "      <td>0.686379</td>\n",
       "      <td>1.598649</td>\n",
       "      <td>0.375016</td>\n",
       "      <td>-0.467298</td>\n",
       "      <td>-1.152388</td>\n",
       "    </tr>\n",
       "    <tr>\n",
       "      <th>2</th>\n",
       "      <td>-0.686621</td>\n",
       "      <td>-0.352461</td>\n",
       "      <td>-0.102108</td>\n",
       "      <td>0.805464</td>\n",
       "      <td>-0.354150</td>\n",
       "    </tr>\n",
       "    <tr>\n",
       "      <th>3</th>\n",
       "      <td>-0.246815</td>\n",
       "      <td>1.135003</td>\n",
       "      <td>1.703401</td>\n",
       "      <td>0.056711</td>\n",
       "      <td>0.939295</td>\n",
       "    </tr>\n",
       "  </tbody>\n",
       "</table>\n",
       "</div>"
      ],
      "text/plain": [
       "          0         1         2         3         4\n",
       "0  0.935281  0.172762  1.911656 -1.388746  0.944704\n",
       "1  0.686379  1.598649  0.375016 -0.467298 -1.152388\n",
       "2 -0.686621 -0.352461 -0.102108  0.805464 -0.354150\n",
       "3 -0.246815  1.135003  1.703401  0.056711  0.939295"
      ]
     },
     "execution_count": 3,
     "metadata": {},
     "output_type": "execute_result"
    }
   ],
   "source": [
    "a = pd.DataFrame(np.random.randn(4,5))\n",
    "a"
   ]
  },
  {
   "cell_type": "code",
   "execution_count": 11,
   "metadata": {},
   "outputs": [
    {
     "data": {
      "text/plain": [
       "0       (0.53, 0.935]\n",
       "1       (0.53, 0.935]\n",
       "2    (-0.688, -0.281]\n",
       "3     (-0.281, 0.124]\n",
       "Name: 0, dtype: category\n",
       "Categories (4, interval[float64]): [(-0.688, -0.281] < (-0.281, 0.124] < (0.124, 0.53] < (0.53, 0.935]]"
      ]
     },
     "execution_count": 11,
     "metadata": {},
     "output_type": "execute_result"
    }
   ],
   "source": [
    "b = pd.cut(a[0],4)\n",
    "b"
   ]
  },
  {
   "cell_type": "code",
   "execution_count": 14,
   "metadata": {},
   "outputs": [
    {
     "name": "stdout",
     "output_type": "stream",
     "text": [
      "(-0.688, -0.281]\n",
      "          0         1         2         3        4\n",
      "2 -0.686621 -0.352461 -0.102108  0.805464 -0.35415\n",
      "(-0.281, 0.124]\n",
      "          0         1         2         3         4\n",
      "3 -0.246815  1.135003  1.703401  0.056711  0.939295\n",
      "(0.124, 0.53]\n",
      "Empty DataFrame\n",
      "Columns: [0, 1, 2, 3, 4]\n",
      "Index: []\n",
      "(0.53, 0.935]\n",
      "          0         1         2         3         4\n",
      "0  0.935281  0.172762  1.911656 -1.388746  0.944704\n",
      "1  0.686379  1.598649  0.375016 -0.467298 -1.152388\n"
     ]
    }
   ],
   "source": [
    "for name,i in a.groupby(b):\n",
    "    print(name)\n",
    "    print(i)\n"
   ]
  },
  {
   "cell_type": "code",
   "execution_count": null,
   "metadata": {},
   "outputs": [],
   "source": []
  }
 ],
 "metadata": {
  "kernelspec": {
   "display_name": "Python 3",
   "language": "python",
   "name": "python3"
  },
  "language_info": {
   "codemirror_mode": {
    "name": "ipython",
    "version": 3
   },
   "file_extension": ".py",
   "mimetype": "text/x-python",
   "name": "python",
   "nbconvert_exporter": "python",
   "pygments_lexer": "ipython3",
   "version": "3.5.3"
  }
 },
 "nbformat": 4,
 "nbformat_minor": 2
}

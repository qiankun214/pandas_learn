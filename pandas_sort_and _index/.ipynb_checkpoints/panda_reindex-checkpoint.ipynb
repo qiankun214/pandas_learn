{
 "cells": [
  {
   "cell_type": "markdown",
   "metadata": {},
   "source": [
    "# Panda_base\n",
    "## 按索引重排\n",
    "使用`Series.reindex()`方法，可以按索引顺序重新排列一个Series,当某个索引不存在时，值为`NaN`"
   ]
  },
  {
   "cell_type": "code",
   "execution_count": 1,
   "metadata": {},
   "outputs": [],
   "source": [
    "import pandas as pd\n",
    "import numpy as np"
   ]
  },
  {
   "cell_type": "markdown",
   "metadata": {},
   "source": [
    "### 对Series重排"
   ]
  },
  {
   "cell_type": "code",
   "execution_count": 2,
   "metadata": {},
   "outputs": [
    {
     "name": "stdout",
     "output_type": "stream",
     "text": [
      "source:\n",
      " a    1\n",
      "b    2\n",
      "c    3\n",
      "d    4\n",
      "dtype: int64\n",
      "after reindex:\n",
      " d    4\n",
      "c    3\n",
      "b    2\n",
      "a    1\n",
      "dtype: int64\n",
      "after reindex:\n",
      " d    4.0\n",
      "c    3.0\n",
      "b    2.0\n",
      "a    1.0\n",
      "e    NaN\n",
      "dtype: float64\n"
     ]
    }
   ],
   "source": [
    "data = pd.Series([1,2,3,4],index=['a','b','c','d'])\n",
    "print('source:\\n',data)\n",
    "print('after reindex:\\n',data.reindex(['d','c','b','a']))\n",
    "print('after reindex:\\n',data.reindex(['d','c','b','a','e']))"
   ]
  },
  {
   "cell_type": "markdown",
   "metadata": {},
   "source": [
    "### 对DataFrame重排\n",
    "使用`DataFrame.reindex()`方法，传入参数`index`可以重排行，传入参数`column`可以重排列，同样，若是包含不存在的索引会创建值为NaN的列或行"
   ]
  },
  {
   "cell_type": "code",
   "execution_count": 3,
   "metadata": {},
   "outputs": [
    {
     "name": "stdout",
     "output_type": "stream",
     "text": [
      "   1  2  3\n",
      "a  0  1  2\n",
      "b  3  4  5\n",
      "c  6  7  8\n",
      "reindex the row:\n",
      "    1  2  3\n",
      "c  6  7  8\n",
      "b  3  4  5\n",
      "a  0  1  2\n",
      "reindex the column:\n",
      "    3  2  1   0\n",
      "a  2  1  0 NaN\n",
      "b  5  4  3 NaN\n",
      "c  8  7  6 NaN\n"
     ]
    }
   ],
   "source": [
    "frame = pd.DataFrame(np.arange(9).reshape((3,3)),index=['a','b','c'],columns=[1,2,3])\n",
    "print(frame)\n",
    "print('reindex the row:\\n',frame.reindex(index=['c','b','a']))\n",
    "print('reindex the column:\\n',frame.reindex(columns=[3,2,1,0]))"
   ]
  },
  {
   "cell_type": "markdown",
   "metadata": {},
   "source": [
    "# 随机重新排序\n",
    "使用`.take()`传入索引顺序的numpy数组即可按传入数组对数据重排"
   ]
  },
  {
   "cell_type": "code",
   "execution_count": 5,
   "metadata": {},
   "outputs": [
    {
     "data": {
      "text/html": [
       "<div>\n",
       "<style>\n",
       "    .dataframe thead tr:only-child th {\n",
       "        text-align: right;\n",
       "    }\n",
       "\n",
       "    .dataframe thead th {\n",
       "        text-align: left;\n",
       "    }\n",
       "\n",
       "    .dataframe tbody tr th {\n",
       "        vertical-align: top;\n",
       "    }\n",
       "</style>\n",
       "<table border=\"1\" class=\"dataframe\">\n",
       "  <thead>\n",
       "    <tr style=\"text-align: right;\">\n",
       "      <th></th>\n",
       "      <th>0</th>\n",
       "      <th>1</th>\n",
       "      <th>2</th>\n",
       "      <th>3</th>\n",
       "    </tr>\n",
       "  </thead>\n",
       "  <tbody>\n",
       "    <tr>\n",
       "      <th>0</th>\n",
       "      <td>-0.646864</td>\n",
       "      <td>1.316892</td>\n",
       "      <td>-1.529555</td>\n",
       "      <td>0.238312</td>\n",
       "    </tr>\n",
       "    <tr>\n",
       "      <th>1</th>\n",
       "      <td>0.734526</td>\n",
       "      <td>0.599169</td>\n",
       "      <td>-1.547083</td>\n",
       "      <td>0.056172</td>\n",
       "    </tr>\n",
       "    <tr>\n",
       "      <th>2</th>\n",
       "      <td>0.103494</td>\n",
       "      <td>0.049427</td>\n",
       "      <td>2.534360</td>\n",
       "      <td>0.400196</td>\n",
       "    </tr>\n",
       "    <tr>\n",
       "      <th>3</th>\n",
       "      <td>0.123966</td>\n",
       "      <td>0.623375</td>\n",
       "      <td>-0.324756</td>\n",
       "      <td>1.131843</td>\n",
       "    </tr>\n",
       "  </tbody>\n",
       "</table>\n",
       "</div>"
      ],
      "text/plain": [
       "          0         1         2         3\n",
       "0 -0.646864  1.316892 -1.529555  0.238312\n",
       "1  0.734526  0.599169 -1.547083  0.056172\n",
       "2  0.103494  0.049427  2.534360  0.400196\n",
       "3  0.123966  0.623375 -0.324756  1.131843"
      ]
     },
     "execution_count": 5,
     "metadata": {},
     "output_type": "execute_result"
    }
   ],
   "source": [
    "a = pd.DataFrame(np.random.randn(4,4))\n",
    "a"
   ]
  },
  {
   "cell_type": "code",
   "execution_count": 6,
   "metadata": {},
   "outputs": [
    {
     "data": {
      "text/plain": [
       "array([3, 0, 1, 2])"
      ]
     },
     "execution_count": 6,
     "metadata": {},
     "output_type": "execute_result"
    }
   ],
   "source": [
    "tag = np.random.permutation(4)\n",
    "tag"
   ]
  },
  {
   "cell_type": "code",
   "execution_count": 17,
   "metadata": {},
   "outputs": [
    {
     "data": {
      "text/html": [
       "<div>\n",
       "<style>\n",
       "    .dataframe thead tr:only-child th {\n",
       "        text-align: right;\n",
       "    }\n",
       "\n",
       "    .dataframe thead th {\n",
       "        text-align: left;\n",
       "    }\n",
       "\n",
       "    .dataframe tbody tr th {\n",
       "        vertical-align: top;\n",
       "    }\n",
       "</style>\n",
       "<table border=\"1\" class=\"dataframe\">\n",
       "  <thead>\n",
       "    <tr style=\"text-align: right;\">\n",
       "      <th></th>\n",
       "      <th>0</th>\n",
       "      <th>1</th>\n",
       "      <th>2</th>\n",
       "      <th>3</th>\n",
       "    </tr>\n",
       "  </thead>\n",
       "  <tbody>\n",
       "    <tr>\n",
       "      <th>3</th>\n",
       "      <td>0.123966</td>\n",
       "      <td>0.623375</td>\n",
       "      <td>-0.324756</td>\n",
       "      <td>1.131843</td>\n",
       "    </tr>\n",
       "    <tr>\n",
       "      <th>0</th>\n",
       "      <td>-0.646864</td>\n",
       "      <td>1.316892</td>\n",
       "      <td>-1.529555</td>\n",
       "      <td>0.238312</td>\n",
       "    </tr>\n",
       "    <tr>\n",
       "      <th>1</th>\n",
       "      <td>0.734526</td>\n",
       "      <td>0.599169</td>\n",
       "      <td>-1.547083</td>\n",
       "      <td>0.056172</td>\n",
       "    </tr>\n",
       "    <tr>\n",
       "      <th>2</th>\n",
       "      <td>0.103494</td>\n",
       "      <td>0.049427</td>\n",
       "      <td>2.534360</td>\n",
       "      <td>0.400196</td>\n",
       "    </tr>\n",
       "  </tbody>\n",
       "</table>\n",
       "</div>"
      ],
      "text/plain": [
       "          0         1         2         3\n",
       "3  0.123966  0.623375 -0.324756  1.131843\n",
       "0 -0.646864  1.316892 -1.529555  0.238312\n",
       "1  0.734526  0.599169 -1.547083  0.056172\n",
       "2  0.103494  0.049427  2.534360  0.400196"
      ]
     },
     "execution_count": 17,
     "metadata": {},
     "output_type": "execute_result"
    }
   ],
   "source": [
    "a.take(tag)"
   ]
  },
  {
   "cell_type": "code",
   "execution_count": 18,
   "metadata": {},
   "outputs": [
    {
     "data": {
      "text/plain": [
       "array([1, 1, 0, 1, 3, 2, 0, 2, 1, 1])"
      ]
     },
     "execution_count": 18,
     "metadata": {},
     "output_type": "execute_result"
    }
   ],
   "source": [
    "tag = np.random.randint(0,4,size=10)\n",
    "tag"
   ]
  },
  {
   "cell_type": "code",
   "execution_count": 19,
   "metadata": {},
   "outputs": [
    {
     "data": {
      "text/html": [
       "<div>\n",
       "<style>\n",
       "    .dataframe thead tr:only-child th {\n",
       "        text-align: right;\n",
       "    }\n",
       "\n",
       "    .dataframe thead th {\n",
       "        text-align: left;\n",
       "    }\n",
       "\n",
       "    .dataframe tbody tr th {\n",
       "        vertical-align: top;\n",
       "    }\n",
       "</style>\n",
       "<table border=\"1\" class=\"dataframe\">\n",
       "  <thead>\n",
       "    <tr style=\"text-align: right;\">\n",
       "      <th></th>\n",
       "      <th>0</th>\n",
       "      <th>1</th>\n",
       "      <th>2</th>\n",
       "      <th>3</th>\n",
       "    </tr>\n",
       "  </thead>\n",
       "  <tbody>\n",
       "    <tr>\n",
       "      <th>1</th>\n",
       "      <td>0.734526</td>\n",
       "      <td>0.599169</td>\n",
       "      <td>-1.547083</td>\n",
       "      <td>0.056172</td>\n",
       "    </tr>\n",
       "    <tr>\n",
       "      <th>1</th>\n",
       "      <td>0.734526</td>\n",
       "      <td>0.599169</td>\n",
       "      <td>-1.547083</td>\n",
       "      <td>0.056172</td>\n",
       "    </tr>\n",
       "    <tr>\n",
       "      <th>0</th>\n",
       "      <td>-0.646864</td>\n",
       "      <td>1.316892</td>\n",
       "      <td>-1.529555</td>\n",
       "      <td>0.238312</td>\n",
       "    </tr>\n",
       "    <tr>\n",
       "      <th>1</th>\n",
       "      <td>0.734526</td>\n",
       "      <td>0.599169</td>\n",
       "      <td>-1.547083</td>\n",
       "      <td>0.056172</td>\n",
       "    </tr>\n",
       "    <tr>\n",
       "      <th>3</th>\n",
       "      <td>0.123966</td>\n",
       "      <td>0.623375</td>\n",
       "      <td>-0.324756</td>\n",
       "      <td>1.131843</td>\n",
       "    </tr>\n",
       "    <tr>\n",
       "      <th>2</th>\n",
       "      <td>0.103494</td>\n",
       "      <td>0.049427</td>\n",
       "      <td>2.534360</td>\n",
       "      <td>0.400196</td>\n",
       "    </tr>\n",
       "    <tr>\n",
       "      <th>0</th>\n",
       "      <td>-0.646864</td>\n",
       "      <td>1.316892</td>\n",
       "      <td>-1.529555</td>\n",
       "      <td>0.238312</td>\n",
       "    </tr>\n",
       "    <tr>\n",
       "      <th>2</th>\n",
       "      <td>0.103494</td>\n",
       "      <td>0.049427</td>\n",
       "      <td>2.534360</td>\n",
       "      <td>0.400196</td>\n",
       "    </tr>\n",
       "    <tr>\n",
       "      <th>1</th>\n",
       "      <td>0.734526</td>\n",
       "      <td>0.599169</td>\n",
       "      <td>-1.547083</td>\n",
       "      <td>0.056172</td>\n",
       "    </tr>\n",
       "    <tr>\n",
       "      <th>1</th>\n",
       "      <td>0.734526</td>\n",
       "      <td>0.599169</td>\n",
       "      <td>-1.547083</td>\n",
       "      <td>0.056172</td>\n",
       "    </tr>\n",
       "  </tbody>\n",
       "</table>\n",
       "</div>"
      ],
      "text/plain": [
       "          0         1         2         3\n",
       "1  0.734526  0.599169 -1.547083  0.056172\n",
       "1  0.734526  0.599169 -1.547083  0.056172\n",
       "0 -0.646864  1.316892 -1.529555  0.238312\n",
       "1  0.734526  0.599169 -1.547083  0.056172\n",
       "3  0.123966  0.623375 -0.324756  1.131843\n",
       "2  0.103494  0.049427  2.534360  0.400196\n",
       "0 -0.646864  1.316892 -1.529555  0.238312\n",
       "2  0.103494  0.049427  2.534360  0.400196\n",
       "1  0.734526  0.599169 -1.547083  0.056172\n",
       "1  0.734526  0.599169 -1.547083  0.056172"
      ]
     },
     "execution_count": 19,
     "metadata": {},
     "output_type": "execute_result"
    }
   ],
   "source": [
    "a.take(tag)"
   ]
  },
  {
   "cell_type": "code",
   "execution_count": 20,
   "metadata": {},
   "outputs": [
    {
     "data": {
      "text/html": [
       "<div>\n",
       "<style>\n",
       "    .dataframe thead tr:only-child th {\n",
       "        text-align: right;\n",
       "    }\n",
       "\n",
       "    .dataframe thead th {\n",
       "        text-align: left;\n",
       "    }\n",
       "\n",
       "    .dataframe tbody tr th {\n",
       "        vertical-align: top;\n",
       "    }\n",
       "</style>\n",
       "<table border=\"1\" class=\"dataframe\">\n",
       "  <thead>\n",
       "    <tr style=\"text-align: right;\">\n",
       "      <th></th>\n",
       "      <th>0</th>\n",
       "      <th>1</th>\n",
       "      <th>2</th>\n",
       "      <th>3</th>\n",
       "    </tr>\n",
       "  </thead>\n",
       "  <tbody>\n",
       "    <tr>\n",
       "      <th>0</th>\n",
       "      <td>-0.646864</td>\n",
       "      <td>1.316892</td>\n",
       "      <td>-1.529555</td>\n",
       "      <td>0.238312</td>\n",
       "    </tr>\n",
       "    <tr>\n",
       "      <th>1</th>\n",
       "      <td>0.734526</td>\n",
       "      <td>0.599169</td>\n",
       "      <td>-1.547083</td>\n",
       "      <td>0.056172</td>\n",
       "    </tr>\n",
       "    <tr>\n",
       "      <th>2</th>\n",
       "      <td>0.103494</td>\n",
       "      <td>0.049427</td>\n",
       "      <td>2.534360</td>\n",
       "      <td>0.400196</td>\n",
       "    </tr>\n",
       "    <tr>\n",
       "      <th>3</th>\n",
       "      <td>0.123966</td>\n",
       "      <td>0.623375</td>\n",
       "      <td>-0.324756</td>\n",
       "      <td>1.131843</td>\n",
       "    </tr>\n",
       "  </tbody>\n",
       "</table>\n",
       "</div>"
      ],
      "text/plain": [
       "          0         1         2         3\n",
       "0 -0.646864  1.316892 -1.529555  0.238312\n",
       "1  0.734526  0.599169 -1.547083  0.056172\n",
       "2  0.103494  0.049427  2.534360  0.400196\n",
       "3  0.123966  0.623375 -0.324756  1.131843"
      ]
     },
     "execution_count": 20,
     "metadata": {},
     "output_type": "execute_result"
    }
   ],
   "source": [
    "a"
   ]
  }
 ],
 "metadata": {
  "kernelspec": {
   "display_name": "Python 3",
   "language": "python",
   "name": "python3"
  },
  "language_info": {
   "codemirror_mode": {
    "name": "ipython",
    "version": 3
   },
   "file_extension": ".py",
   "mimetype": "text/x-python",
   "name": "python",
   "nbconvert_exporter": "python",
   "pygments_lexer": "ipython3",
   "version": "3.5.3"
  }
 },
 "nbformat": 4,
 "nbformat_minor": 2
}

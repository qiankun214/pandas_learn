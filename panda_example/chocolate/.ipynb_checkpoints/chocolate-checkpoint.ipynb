{
 "cells": [
  {
   "cell_type": "code",
   "execution_count": 2,
   "metadata": {},
   "outputs": [],
   "source": [
    "import numpy as np\n",
    "import pandas as pd"
   ]
  },
  {
   "cell_type": "markdown",
   "metadata": {},
   "source": [
    "# 数据读取"
   ]
  },
  {
   "cell_type": "code",
   "execution_count": 11,
   "metadata": {},
   "outputs": [],
   "source": [
    "dataset = pd.read_csv(\"./flavors_of_cacao.csv\")"
   ]
  },
  {
   "cell_type": "code",
   "execution_count": 59,
   "metadata": {},
   "outputs": [
    {
     "name": "stdout",
     "output_type": "stream",
     "text": [
      "<class 'pandas.core.frame.DataFrame'>\n",
      "RangeIndex: 1795 entries, 0 to 1794\n",
      "Data columns (total 9 columns):\n",
      "Company (Maker-if known)            1795 non-null object\n",
      "Specific Bean Origin or Bar Name    1795 non-null object\n",
      "REF                                 1795 non-null int64\n",
      "Review Date                         1795 non-null int64\n",
      "Cocoa Percent                       1795 non-null object\n",
      "Company Location                    1795 non-null object\n",
      "Rating                              1795 non-null float64\n",
      "Bean Type                           1794 non-null object\n",
      "Broad Bean Origin                   1794 non-null object\n",
      "dtypes: float64(1), int64(2), object(6)\n",
      "memory usage: 126.3+ KB\n"
     ]
    }
   ],
   "source": [
    "dataset.columns = dataset.columns.map(lambda x:x.replace(\"\\n\",\" \"))\n",
    "dataset.columns = dataset.columns.map(lambda x:x.replace(\"\\xa0\",\"\"))\n",
    "dataset.info()"
   ]
  },
  {
   "cell_type": "markdown",
   "metadata": {},
   "source": [
    "每个列的含义如下：\n",
    "- Company：生产公司\n",
    "- Specific Bean Origin or Bar Name：产品名称\n",
    "- REF：不祥\n",
    "- Review Date：\n",
    "- Cocoa Percent：可可含量\n",
    "- Company Location：公司地址\n",
    "- Rating：等级\n",
    "- Bean Type：可可豆类型\n",
    "- Broad Bean Origin：原产地"
   ]
  },
  {
   "cell_type": "markdown",
   "metadata": {},
   "source": [
    "# 数据预处理\n",
    "## 缺失值丢弃"
   ]
  },
  {
   "cell_type": "code",
   "execution_count": 60,
   "metadata": {},
   "outputs": [
    {
     "name": "stdout",
     "output_type": "stream",
     "text": [
      "<class 'pandas.core.frame.DataFrame'>\n",
      "Int64Index: 1793 entries, 0 to 1794\n",
      "Data columns (total 8 columns):\n",
      "Company (Maker-if known)            1793 non-null object\n",
      "Specific Bean Origin or Bar Name    1793 non-null object\n",
      "Review Date                         1793 non-null int64\n",
      "Cocoa Percent                       1793 non-null object\n",
      "Company Location                    1793 non-null object\n",
      "Rating                              1793 non-null float64\n",
      "Bean Type                           1793 non-null object\n",
      "Broad Bean Origin                   1793 non-null object\n",
      "dtypes: float64(1), int64(1), object(6)\n",
      "memory usage: 126.1+ KB\n"
     ]
    }
   ],
   "source": [
    "dataset_nona = dataset.dropna()\n",
    "dataset_nona = dataset_nona.drop([\"REF\"],axis=1)\n",
    "dataset_nona.info()"
   ]
  },
  {
   "cell_type": "markdown",
   "metadata": {},
   "source": [
    "## 百分比转换"
   ]
  },
  {
   "cell_type": "code",
   "execution_count": 61,
   "metadata": {},
   "outputs": [
    {
     "name": "stdout",
     "output_type": "stream",
     "text": [
      "<class 'pandas.core.frame.DataFrame'>\n",
      "Int64Index: 1793 entries, 0 to 1794\n",
      "Data columns (total 8 columns):\n",
      "Company (Maker-if known)            1793 non-null object\n",
      "Specific Bean Origin or Bar Name    1793 non-null object\n",
      "Review Date                         1793 non-null int64\n",
      "Cocoa Percent                       1793 non-null float64\n",
      "Company Location                    1793 non-null object\n",
      "Rating                              1793 non-null float64\n",
      "Bean Type                           1793 non-null object\n",
      "Broad Bean Origin                   1793 non-null object\n",
      "dtypes: float64(2), int64(1), object(5)\n",
      "memory usage: 126.1+ KB\n"
     ]
    }
   ],
   "source": [
    "dataset_nona[\"Cocoa Percent\"] = dataset_nona[\"Cocoa Percent\"].map(lambda x:float(x.strip('%')) / 100)\n",
    "dataset_nona.info()"
   ]
  },
  {
   "cell_type": "markdown",
   "metadata": {},
   "source": [
    "# 问题分析\n",
    "## Where are the best cocoa beans grown?"
   ]
  },
  {
   "cell_type": "code",
   "execution_count": 62,
   "metadata": {},
   "outputs": [],
   "source": [
    "best_been = dataset_nona[[\"Broad Bean Origin\",\"Rating\"]]"
   ]
  },
  {
   "cell_type": "code",
   "execution_count": 63,
   "metadata": {},
   "outputs": [
    {
     "name": "stdout",
     "output_type": "stream",
     "text": [
      "                              Rating\n",
      "Broad Bean Origin                   \n",
      "Dominican Rep., Bali            3.75\n",
      "Peru, Belize                    3.75\n",
      "Ven.,Ecu.,Peru,Nic.             3.75\n",
      "DR, Ecuador, Peru               3.75\n",
      "Venez,Africa,Brasil,Peru,Mex    3.75\n",
      "Dom. Rep., Madagascar           4.00\n",
      "Venezuela, Java                 4.00\n",
      "Gre., PNG, Haw., Haiti, Mad     4.00\n",
      "Guat., D.R., Peru, Mad., PNG    4.00\n",
      "Peru, Dom. Rep                  4.00\n"
     ]
    }
   ],
   "source": [
    "best_been_data = best_been.groupby([\"Broad Bean Origin\"]).apply(np.mean)\n",
    "best_been_data.sort_values(by=\"Rating\",inplace=True)\n",
    "print(best_been_data[-10:])"
   ]
  },
  {
   "cell_type": "markdown",
   "metadata": {},
   "source": [
    "可看出最好的可可豆生长在秘鲁的Dom. Rep，危地马拉的D.R., Peru, Mad., PNG等地"
   ]
  },
  {
   "cell_type": "markdown",
   "metadata": {},
   "source": [
    "## Which countries produce the highest-rated bars?"
   ]
  },
  {
   "cell_type": "code",
   "execution_count": 64,
   "metadata": {},
   "outputs": [
    {
     "name": "stdout",
     "output_type": "stream",
     "text": [
      "<class 'pandas.core.frame.DataFrame'>\n",
      "Int64Index: 1793 entries, 0 to 1794\n",
      "Data columns (total 2 columns):\n",
      "Company Location    1793 non-null object\n",
      "Rating              1793 non-null float64\n",
      "dtypes: float64(1), object(1)\n",
      "memory usage: 42.0+ KB\n"
     ]
    }
   ],
   "source": [
    "best_country = dataset_nona[[\"Company Location\",\"Rating\"]]\n",
    "best_country.info()"
   ]
  },
  {
   "cell_type": "code",
   "execution_count": 65,
   "metadata": {},
   "outputs": [
    {
     "name": "stdout",
     "output_type": "stream",
     "text": [
      "                    Rating\n",
      "Company Location          \n",
      "Guatemala         3.350000\n",
      "Australia         3.357143\n",
      "Poland            3.375000\n",
      "Brazil            3.397059\n",
      "Vietnam           3.409091\n",
      "Iceland           3.416667\n",
      "Philippines       3.500000\n",
      "Netherlands       3.500000\n",
      "Amsterdam         3.500000\n",
      "Chile             3.750000\n"
     ]
    }
   ],
   "source": [
    "best_country_data = best_country.groupby([\"Company Location\"]).apply(np.mean)\n",
    "best_country_data.sort_values(by=[\"Rating\"],inplace=True)\n",
    "print(best_country_data[-10:])"
   ]
  },
  {
   "cell_type": "markdown",
   "metadata": {},
   "source": [
    "可以看出生产出巧克力较好的是智利，荷兰等地"
   ]
  },
  {
   "cell_type": "markdown",
   "metadata": {},
   "source": [
    "## what’s the relationship between cocoa solids percentage and rating?"
   ]
  },
  {
   "cell_type": "code",
   "execution_count": 66,
   "metadata": {},
   "outputs": [
    {
     "name": "stdout",
     "output_type": "stream",
     "text": [
      "<class 'pandas.core.frame.DataFrame'>\n",
      "Int64Index: 1793 entries, 0 to 1794\n",
      "Data columns (total 2 columns):\n",
      "CocoaPercent    1793 non-null float64\n",
      "Rating          1793 non-null float64\n",
      "dtypes: float64(2)\n",
      "memory usage: 42.0 KB\n"
     ]
    }
   ],
   "source": [
    "best_coco = dataset_nona[[\"Cocoa Percent\",\"Rating\"]]\n",
    "best_coco.columns = best_coco.columns.map(lambda x:x.replace(\" \",\"\"))\n",
    "best_coco.info()"
   ]
  },
  {
   "cell_type": "code",
   "execution_count": 69,
   "metadata": {},
   "outputs": [
    {
     "name": "stdout",
     "output_type": "stream",
     "text": [
      "              CocoaPercent    Rating\n",
      "CocoaPercent      1.000000 -0.164758\n",
      "Rating           -0.164758  1.000000\n"
     ]
    }
   ],
   "source": [
    "print(best_coco.corr())"
   ]
  },
  {
   "cell_type": "code",
   "execution_count": 70,
   "metadata": {},
   "outputs": [
    {
     "data": {
      "image/png": "[encoded data removed]",
      "text/plain": [
       "<matplotlib.figure.Figure at 0x27913e15940>"
      ]
     },
     "metadata": {},
     "output_type": "display_data"
    }
   ],
   "source": [
    "import matplotlib.pyplot as plt\n",
    "plt.close()\n",
    "# print(best_coco[\"CocoaPercent\"])\n",
    "plt.scatter(best_coco[\"CocoaPercent\"].values,best_coco[\"Rating\"].values)\n",
    "plt.show()"
   ]
  },
  {
   "cell_type": "markdown",
   "metadata": {},
   "source": [
    "可以看出巧克力质量和含可可量没有明显的关系"
   ]
  },
  {
   "cell_type": "markdown",
   "metadata": {},
   "source": [
    "# 探索分析"
   ]
  },
  {
   "cell_type": "code",
   "execution_count": 77,
   "metadata": {},
   "outputs": [
    {
     "name": "stdout",
     "output_type": "stream",
     "text": [
      "Review Date\n",
      "2006    3.125000\n",
      "2007    3.162338\n",
      "2008    2.994624\n",
      "2009    3.073171\n",
      "2010    3.148649\n",
      "2011    3.251524\n",
      "2012    3.181701\n",
      "2013    3.197011\n",
      "2014    3.189271\n",
      "2015    3.246491\n",
      "2016    3.226027\n",
      "2017    3.312500\n",
      "dtype: float64\n"
     ]
    }
   ],
   "source": [
    "print(dataset_nona.groupby([\"Review Date\"]).apply(lambda x:x[\"Rating\"].sum() / x.shape[0]))"
   ]
  },
  {
   "cell_type": "code",
   "execution_count": 86,
   "metadata": {},
   "outputs": [
    {
     "name": "stdout",
     "output_type": "stream",
     "text": [
      "                          Rating\n",
      "Bean Type                       \n",
      "Amazon, ICS                3.625\n",
      "Criollo (Ocumare 77)       3.750\n",
      "Trinitario, TCGA           3.750\n",
      "Blend-Forastero,Criollo    3.750\n",
      "Amazon mix                 3.750\n",
      "Trinitario, Nacional       3.750\n",
      "Forastero (Amelonado)      3.750\n",
      "Trinitario (85% Criollo)   3.875\n",
      "Criollo (Wild)             4.000\n",
      "Criollo (Ocumare 67)       4.000\n"
     ]
    }
   ],
   "source": [
    "coco_type = dataset_nona[[\"Bean Type\",\"Rating\"]]\n",
    "coco_type = coco_type.groupby([\"Bean Type\"]).apply(np.mean)\n",
    "print(coco_type.sort_values(by=\"Rating\")[-10:])"
   ]
  },
  {
   "cell_type": "markdown",
   "metadata": {},
   "source": [
    "最好的可可豆是Criollo"
   ]
  }
 ],
 "metadata": {
  "kernelspec": {
   "display_name": "Python 3",
   "language": "python",
   "name": "python3"
  },
  "language_info": {
   "codemirror_mode": {
    "name": "ipython",
    "version": 3
   },
   "file_extension": ".py",
   "mimetype": "text/x-python",
   "name": "python",
   "nbconvert_exporter": "python",
   "pygments_lexer": "ipython3",
   "version": "3.5.3"
  }
 },
 "nbformat": 4,
 "nbformat_minor": 2
}

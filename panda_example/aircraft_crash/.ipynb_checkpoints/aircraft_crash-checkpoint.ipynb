{
 "cells": [
  {
   "cell_type": "code",
   "execution_count": 1,
   "metadata": {},
   "outputs": [],
   "source": [
    "import pandas as pd\n",
    "import numpy as np\n",
    "import matplotlib.pyplot as plt"
   ]
  },
  {
   "cell_type": "markdown",
   "metadata": {},
   "source": [
    "# 导入数据集"
   ]
  },
  {
   "cell_type": "code",
   "execution_count": 2,
   "metadata": {},
   "outputs": [
    {
     "name": "stdout",
     "output_type": "stream",
     "text": [
      "<class 'pandas.core.frame.DataFrame'>\n",
      "RangeIndex: 5268 entries, 0 to 5267\n",
      "Data columns (total 13 columns):\n",
      "Date            5268 non-null object\n",
      "Time            3049 non-null object\n",
      "Location        5248 non-null object\n",
      "Operator        5250 non-null object\n",
      "Flight #        1069 non-null object\n",
      "Route           3562 non-null object\n",
      "Type            5241 non-null object\n",
      "Registration    4933 non-null object\n",
      "cn/In           4040 non-null object\n",
      "Aboard          5246 non-null float64\n",
      "Fatalities      5256 non-null float64\n",
      "Ground          5246 non-null float64\n",
      "Summary         4878 non-null object\n",
      "dtypes: float64(3), object(10)\n",
      "memory usage: 535.1+ KB\n"
     ]
    }
   ],
   "source": [
    "crash = pd.read_csv(\"./Airplane_Crashes_and_Fatalities_Since_1908.csv\")\n",
    "crash.info()"
   ]
  },
  {
   "cell_type": "code",
   "execution_count": 3,
   "metadata": {},
   "outputs": [
    {
     "name": "stdout",
     "output_type": "stream",
     "text": [
      "<class 'pandas.core.frame.DataFrame'>\n",
      "RangeIndex: 5268 entries, 0 to 5267\n",
      "Data columns (total 8 columns):\n",
      "Date            5268 non-null object\n",
      "Time            3049 non-null object\n",
      "Operator        5250 non-null object\n",
      "Type            5241 non-null object\n",
      "Registration    4933 non-null object\n",
      "Aboard          5246 non-null float64\n",
      "Fatalities      5256 non-null float64\n",
      "Ground          5246 non-null float64\n",
      "dtypes: float64(3), object(5)\n",
      "memory usage: 329.3+ KB\n"
     ]
    }
   ],
   "source": [
    "crash = crash.drop([\"Summary\",\"cn/In\",\"Flight #\",\"Route\",\"Location\"],axis=1)\n",
    "crash.info()"
   ]
  },
  {
   "cell_type": "code",
   "execution_count": 4,
   "metadata": {},
   "outputs": [
    {
     "name": "stdout",
     "output_type": "stream",
     "text": [
      "         Date   Time                Operator                    Type  \\\n",
      "0  09/17/1908  17:18    Military - U.S. Army        Wright Flyer III   \n",
      "1  07/12/1912   6:30    Military - U.S. Navy               Dirigible   \n",
      "2  08/06/1913    NaN                 Private        Curtiss seaplane   \n",
      "3  09/09/1913  18:30  Military - German Navy  Zeppelin L-1 (airship)   \n",
      "4  10/17/1913  10:30  Military - German Navy  Zeppelin L-2 (airship)   \n",
      "\n",
      "  Registration  Aboard  Fatalities  Ground  \n",
      "0          NaN     2.0         1.0     0.0  \n",
      "1          NaN     5.0         5.0     0.0  \n",
      "2          NaN     1.0         1.0     0.0  \n",
      "3          NaN    20.0        14.0     0.0  \n",
      "4          NaN    30.0        30.0     0.0  \n"
     ]
    }
   ],
   "source": [
    "print(crash[:5])"
   ]
  },
  {
   "cell_type": "markdown",
   "metadata": {},
   "source": [
    "# 伤亡排序"
   ]
  },
  {
   "cell_type": "code",
   "execution_count": 5,
   "metadata": {},
   "outputs": [
    {
     "name": "stdout",
     "output_type": "stream",
     "text": [
      "105479.0\n"
     ]
    },
    {
     "data": {
      "text/html": [
       "<div>\n",
       "<style>\n",
       "    .dataframe thead tr:only-child th {\n",
       "        text-align: right;\n",
       "    }\n",
       "\n",
       "    .dataframe thead th {\n",
       "        text-align: left;\n",
       "    }\n",
       "\n",
       "    .dataframe tbody tr th {\n",
       "        vertical-align: top;\n",
       "    }\n",
       "</style>\n",
       "<table border=\"1\" class=\"dataframe\">\n",
       "  <thead>\n",
       "    <tr style=\"text-align: right;\">\n",
       "      <th></th>\n",
       "      <th>Date</th>\n",
       "      <th>Time</th>\n",
       "      <th>Operator</th>\n",
       "      <th>Type</th>\n",
       "      <th>Registration</th>\n",
       "      <th>Aboard</th>\n",
       "      <th>Fatalities</th>\n",
       "      <th>Ground</th>\n",
       "    </tr>\n",
       "  </thead>\n",
       "  <tbody>\n",
       "    <tr>\n",
       "      <th>3562</th>\n",
       "      <td>06/23/1985</td>\n",
       "      <td>7:15</td>\n",
       "      <td>Air India</td>\n",
       "      <td>Boeing B-747-237B</td>\n",
       "      <td>VT-EFO</td>\n",
       "      <td>329.0</td>\n",
       "      <td>329.0</td>\n",
       "      <td>0.0</td>\n",
       "    </tr>\n",
       "    <tr>\n",
       "      <th>2726</th>\n",
       "      <td>03/03/1974</td>\n",
       "      <td>11:41</td>\n",
       "      <td>Turkish Airlines (THY)</td>\n",
       "      <td>McDonnell Douglas DC-10-10</td>\n",
       "      <td>TC-JAV</td>\n",
       "      <td>346.0</td>\n",
       "      <td>346.0</td>\n",
       "      <td>0.0</td>\n",
       "    </tr>\n",
       "    <tr>\n",
       "      <th>4455</th>\n",
       "      <td>11/12/1996</td>\n",
       "      <td>18:40</td>\n",
       "      <td>Saudi Arabian Airlines / Kazastan Airlines</td>\n",
       "      <td>Boeing B-747-168B / Ilyushin IL-76TD</td>\n",
       "      <td>HZAIH/UN-76435</td>\n",
       "      <td>349.0</td>\n",
       "      <td>349.0</td>\n",
       "      <td>0.0</td>\n",
       "    </tr>\n",
       "    <tr>\n",
       "      <th>3568</th>\n",
       "      <td>08/12/1985</td>\n",
       "      <td>18:56</td>\n",
       "      <td>Japan Air Lines</td>\n",
       "      <td>Boeing B-747-SR46</td>\n",
       "      <td>JA8119</td>\n",
       "      <td>524.0</td>\n",
       "      <td>520.0</td>\n",
       "      <td>0.0</td>\n",
       "    </tr>\n",
       "    <tr>\n",
       "      <th>2963</th>\n",
       "      <td>03/27/1977</td>\n",
       "      <td>17:07</td>\n",
       "      <td>Pan American World Airways / KLM</td>\n",
       "      <td>Boeing B-747-121 / Boeing B-747-206B</td>\n",
       "      <td>N736PA/PH-BUF</td>\n",
       "      <td>644.0</td>\n",
       "      <td>583.0</td>\n",
       "      <td>0.0</td>\n",
       "    </tr>\n",
       "  </tbody>\n",
       "</table>\n",
       "</div>"
      ],
      "text/plain": [
       "            Date   Time                                    Operator  \\\n",
       "3562  06/23/1985   7:15                                   Air India   \n",
       "2726  03/03/1974  11:41                      Turkish Airlines (THY)   \n",
       "4455  11/12/1996  18:40  Saudi Arabian Airlines / Kazastan Airlines   \n",
       "3568  08/12/1985  18:56                             Japan Air Lines   \n",
       "2963  03/27/1977  17:07            Pan American World Airways / KLM   \n",
       "\n",
       "                                      Type    Registration  Aboard  \\\n",
       "3562                     Boeing B-747-237B          VT-EFO   329.0   \n",
       "2726            McDonnell Douglas DC-10-10          TC-JAV   346.0   \n",
       "4455  Boeing B-747-168B / Ilyushin IL-76TD  HZAIH/UN-76435   349.0   \n",
       "3568                     Boeing B-747-SR46          JA8119   524.0   \n",
       "2963  Boeing B-747-121 / Boeing B-747-206B   N736PA/PH-BUF   644.0   \n",
       "\n",
       "      Fatalities  Ground  \n",
       "3562       329.0     0.0  \n",
       "2726       346.0     0.0  \n",
       "4455       349.0     0.0  \n",
       "3568       520.0     0.0  \n",
       "2963       583.0     0.0  "
      ]
     },
     "execution_count": 5,
     "metadata": {},
     "output_type": "execute_result"
    }
   ],
   "source": [
    "print(crash[\"Fatalities\"].sum())\n",
    "fatal_crash = crash[crash[\"Fatalities\"].notnull()]\n",
    "fatal_crash = fatal_crash.sort_values(by=\"Fatalities\")\n",
    "fatal_crash[-5:]"
   ]
  },
  {
   "cell_type": "markdown",
   "metadata": {},
   "source": [
    "- 内特里费空难：两架波音-747相撞，死亡583人\n",
    "- 日航123空难：波音747撞富士山，单架飞机失事最高死亡记录\n",
    "- 恰尔基达德里撞机事件，最严重的的空中撞机事件\n",
    "- 土耳其航空981号班机空难：货舱门未锁定导致爆炸性施压\n",
    "- 印度航空182号班机：恐怖袭击"
   ]
  },
  {
   "cell_type": "markdown",
   "metadata": {},
   "source": [
    "# 机型处理\n",
    "## 处理函数"
   ]
  },
  {
   "cell_type": "code",
   "execution_count": 13,
   "metadata": {},
   "outputs": [
    {
     "name": "stdout",
     "output_type": "stream",
     "text": [
      "other                3738\n",
      "Douglas               984\n",
      "Boeing                376\n",
      "McDonnell Douglas     123\n",
      "Airbus                 35\n",
      "Name: Type, dtype: int64\n"
     ]
    }
   ],
   "source": [
    "type_crash = fatal_crash[\"Type\"]\n",
    "def type_handle(x):\n",
    "    x = str(x)\n",
    "    if \"McDonnell Douglas\" in x:\n",
    "        return \"McDonnell Douglas\"\n",
    "    elif \"Douglas\" in x:\n",
    "        return \"Douglas\"\n",
    "    elif \"Boeing\" in x:\n",
    "        return \"Boeing\"\n",
    "    elif \"Airbus\" in x:\n",
    "        return \"Airbus\"\n",
    "    else:\n",
    "        return \"other\"\n",
    "company_crash = type_crash.map(type_handle)\n",
    "print(pd.value_counts(company_crash))"
   ]
  },
  {
   "cell_type": "code",
   "execution_count": 14,
   "metadata": {},
   "outputs": [
    {
     "name": "stdout",
     "output_type": "stream",
     "text": [
      "            Date   Time          Operator               Type Registration  \\\n",
      "108   10/21/1926  13:15  Imperial Airways  Handley Page W-10       G-EBMS   \n",
      "5178  11/08/2007   8:00    Juba Air Cargo         Antonov 12       ST-JUA   \n",
      "\n",
      "      Aboard  Fatalities  Ground airplane  \n",
      "108     12.0         0.0     0.0    other  \n",
      "5178     4.0         0.0     2.0    other  \n"
     ]
    }
   ],
   "source": [
    "fatal_crash[\"airplane\"] = company_crash\n",
    "print(fatal_crash[:2])"
   ]
  },
  {
   "cell_type": "markdown",
   "metadata": {},
   "source": [
    "## 处理结果"
   ]
  },
  {
   "cell_type": "code",
   "execution_count": 31,
   "metadata": {},
   "outputs": [
    {
     "name": "stdout",
     "output_type": "stream",
     "text": [
      "                   crash_time  fatal_num  fatal_ratio\n",
      "airplane                                             \n",
      "Airbus                   35.0     2980.0     0.510711\n",
      "Boeing                  376.0    18705.0     0.649434\n",
      "Douglas                 984.0    16899.0     0.794350\n",
      "McDonnell Douglas       123.0     6827.0     0.531946\n",
      "other                  3738.0    60068.0     0.792391\n"
     ]
    },
    {
     "data": {
      "image/png": "[encoded data removed]",
      "text/plain": [
       "<matplotlib.figure.Figure at 0x1e601166e80>"
      ]
     },
     "metadata": {},
     "output_type": "display_data"
    }
   ],
   "source": [
    "def airplane_counte(x):\n",
    "    fatal_ratio = x[\"Fatalities\"].sum() / x[\"Aboard\"].sum()\n",
    "    crash_time = x.shape[0]\n",
    "    fatal_num = x[\"Fatalities\"].sum()\n",
    "    return pd.Series({\"fatal_num\":fatal_num,\"crash_time\":crash_time,\"fatal_ratio\":fatal_ratio})\n",
    "\n",
    "company = fatal_crash.groupby(['airplane']).apply(airplane_counte)\n",
    "print(company)\n",
    "plt.close()\n",
    "plt.figure(figsize=(16,4))\n",
    "plt.subplot(1,3,1)\n",
    "company['crash_time'].plot(kind='bar')\n",
    "plt.subplot(1,3,2)\n",
    "company['fatal_num'].plot(kind='bar')\n",
    "plt.subplot(1,3,3)\n",
    "company['fatal_ratio'].plot(kind='bar')\n",
    "plt.show()"
   ]
  },
  {
   "cell_type": "code",
   "execution_count": null,
   "metadata": {},
   "outputs": [],
   "source": []
  }
 ],
 "metadata": {
  "kernelspec": {
   "display_name": "Python 3",
   "language": "python",
   "name": "python3"
  },
  "language_info": {
   "codemirror_mode": {
    "name": "ipython",
    "version": 3
   },
   "file_extension": ".py",
   "mimetype": "text/x-python",
   "name": "python",
   "nbconvert_exporter": "python",
   "pygments_lexer": "ipython3",
   "version": "3.5.3"
  }
 },
 "nbformat": 4,
 "nbformat_minor": 2
}

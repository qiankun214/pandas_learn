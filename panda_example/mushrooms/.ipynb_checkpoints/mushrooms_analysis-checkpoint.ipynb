{
 "cells": [
  {
   "cell_type": "code",
   "execution_count": 1,
   "metadata": {},
   "outputs": [],
   "source": [
    "import pandas as pd\n",
    "import numpy as np"
   ]
  },
  {
   "cell_type": "markdown",
   "metadata": {},
   "source": [
    "# 数据集描述\n",
    "蘑菇数据集，包括毒性，大小，表面，颜色等，所有数据均为字符串类型，分析毒性与其他属性的关系\n",
    "# 读取数据集"
   ]
  },
  {
   "cell_type": "code",
   "execution_count": 3,
   "metadata": {},
   "outputs": [
    {
     "name": "stdout",
     "output_type": "stream",
     "text": [
      "<class 'pandas.core.frame.DataFrame'>\n",
      "RangeIndex: 8124 entries, 0 to 8123\n",
      "Data columns (total 23 columns):\n",
      "class                       8124 non-null object\n",
      "cap-shape                   8124 non-null object\n",
      "cap-surface                 8124 non-null object\n",
      "cap-color                   8124 non-null object\n",
      "bruises                     8124 non-null object\n",
      "odor                        8124 non-null object\n",
      "gill-attachment             8124 non-null object\n",
      "gill-spacing                8124 non-null object\n",
      "gill-size                   8124 non-null object\n",
      "gill-color                  8124 non-null object\n",
      "stalk-shape                 8124 non-null object\n",
      "stalk-root                  8124 non-null object\n",
      "stalk-surface-above-ring    8124 non-null object\n",
      "stalk-surface-below-ring    8124 non-null object\n",
      "stalk-color-above-ring      8124 non-null object\n",
      "stalk-color-below-ring      8124 non-null object\n",
      "veil-type                   8124 non-null object\n",
      "veil-color                  8124 non-null object\n",
      "ring-number                 8124 non-null object\n",
      "ring-type                   8124 non-null object\n",
      "spore-print-color           8124 non-null object\n",
      "population                  8124 non-null object\n",
      "habitat                     8124 non-null object\n",
      "dtypes: object(23)\n",
      "memory usage: 1.4+ MB\n"
     ]
    }
   ],
   "source": [
    "dataset = pd.read_csv(\"./mushrooms.csv\")\n",
    "dataset.info()"
   ]
  },
  {
   "cell_type": "markdown",
   "metadata": {},
   "source": [
    "可以发现，一共包括23个属性，没有缺失值\n",
    "# 直观分析——鲜艳颜色的蘑菇都有毒？"
   ]
  },
  {
   "cell_type": "code",
   "execution_count": 53,
   "metadata": {},
   "outputs": [
    {
     "name": "stdout",
     "output_type": "stream",
     "text": [
      "     poison    normal       all\n",
      "p  0.022472  0.013308  0.017725\n",
      "b  0.030644  0.011407  0.020679\n",
      "y  0.171604  0.095057  0.131955\n",
      "e  0.223698  0.148289  0.184638\n"
     ]
    }
   ],
   "source": [
    "poison = dataset[dataset[\"class\"] == \"p\"][\"cap-color\"]\n",
    "not_poison = dataset[dataset[\"class\"] != \"p\"][\"cap-color\"]\n",
    "# print(pd.value_counts(not_poison))\n",
    "poison_color = pd.concat([pd.value_counts(poison),pd.value_counts(not_poison),pd.value_counts(dataset[\"cap-color\"])],axis=1,keys=[\"poison\",\"normal\",\"all\"])\n",
    "poison_color = poison_color.fillna(value=0)\n",
    "# print(poison_color)\n",
    "poison_color = poison_color.groupby(poison_color.columns,axis=1).apply(lambda x:x / x.sum())\n",
    "# group.agg(lambda x:x / x.sum())\n",
    "# poison_color[\"poison\"] = poison_color[\"poison\"] / poison_color[\"poison\"].sum()\n",
    "# poison_color[\"all\"] = poison_color[\"all\"] / poison_color[\"all\"].sum()\n",
    "print(poison_color.sort_values(by=\"poison\").loc[[\"p\",\"b\",\"y\",\"e\"]])"
   ]
  },
  {
   "cell_type": "markdown",
   "metadata": {},
   "source": [
    "可得还是有一定道理的，尤其是黄色和红色的蘑菇"
   ]
  },
  {
   "cell_type": "markdown",
   "metadata": {},
   "source": [
    "# 数据预处理——文字向量化\n",
    "该数据集中，最重要的预处理就是将文字转换为向量"
   ]
  },
  {
   "cell_type": "code",
   "execution_count": null,
   "metadata": {},
   "outputs": [],
   "source": []
  }
 ],
 "metadata": {
  "kernelspec": {
   "display_name": "Python 3",
   "language": "python",
   "name": "python3"
  },
  "language_info": {
   "codemirror_mode": {
    "name": "ipython",
    "version": 3
   },
   "file_extension": ".py",
   "mimetype": "text/x-python",
   "name": "python",
   "nbconvert_exporter": "python",
   "pygments_lexer": "ipython3",
   "version": "3.5.3"
  }
 },
 "nbformat": 4,
 "nbformat_minor": 2
}

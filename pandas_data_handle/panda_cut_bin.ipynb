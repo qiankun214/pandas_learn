{
 "cells": [
  {
   "cell_type": "code",
   "execution_count": 1,
   "metadata": {},
   "outputs": [],
   "source": [
    "import pandas as pd\n",
    "import numpy as np"
   ]
  },
  {
   "cell_type": "markdown",
   "metadata": {},
   "source": [
    "# 面元划分\n",
    "使用cut方法可以根据数据将Series划分为指定的几段"
   ]
  },
  {
   "cell_type": "code",
   "execution_count": 10,
   "metadata": {},
   "outputs": [
    {
     "name": "stdout",
     "output_type": "stream",
     "text": [
      "0   -0.510696\n",
      "1    0.287546\n",
      "2    0.833991\n",
      "3    2.022710\n",
      "4   -0.884091\n",
      "5    0.475957\n",
      "6   -2.526458\n",
      "7    0.621457\n",
      "dtype: float64\n",
      "0    (-1.389, -0.252]\n",
      "1     (-0.252, 0.885]\n",
      "2     (-0.252, 0.885]\n",
      "3      (0.885, 2.023]\n",
      "4    (-1.389, -0.252]\n",
      "5     (-0.252, 0.885]\n",
      "6    (-2.531, -1.389]\n",
      "7     (-0.252, 0.885]\n",
      "dtype: category\n",
      "Categories (4, interval[float64]): [(-2.531, -1.389] < (-1.389, -0.252] < (-0.252, 0.885] < (0.885, 2.023]]\n"
     ]
    }
   ],
   "source": [
    "a = pd.Series(np.random.randn(8))\n",
    "print(a)\n",
    "print(pd.cut(a,4))"
   ]
  },
  {
   "cell_type": "markdown",
   "metadata": {},
   "source": [
    "也可以给定范围划分并传入每组的名字"
   ]
  },
  {
   "cell_type": "code",
   "execution_count": 22,
   "metadata": {},
   "outputs": [
    {
     "data": {
      "text/plain": [
       "0    a\n",
       "1    b\n",
       "2    d\n",
       "3    e\n",
       "4    a\n",
       "5    b\n",
       "6    a\n",
       "7    c\n",
       "dtype: category\n",
       "Categories (5, object): [a < b < c < d < e]"
      ]
     },
     "execution_count": 22,
     "metadata": {},
     "output_type": "execute_result"
    }
   ],
   "source": [
    "pd.cut(a,[-3,0.25,0.5,0.75,1,3],labels=[\"a\",\"b\",\"c\",\"d\",\"e\"])"
   ]
  },
  {
   "cell_type": "code",
   "execution_count": 21,
   "metadata": {},
   "outputs": [
    {
     "data": {
      "text/plain": [
       "(-0.252, 0.885]     4\n",
       "(-1.389, -0.252]    2\n",
       "(0.885, 2.023]      1\n",
       "(-2.531, -1.389]    1\n",
       "dtype: int64"
      ]
     },
     "execution_count": 21,
     "metadata": {},
     "output_type": "execute_result"
    }
   ],
   "source": [
    "b = pd.cut(a,4)\n",
    "pd.value_counts(b)"
   ]
  },
  {
   "cell_type": "markdown",
   "metadata": {},
   "source": [
    "# qcut函数\n",
    "qcut函数按数据数量进行均分"
   ]
  },
  {
   "cell_type": "code",
   "execution_count": 24,
   "metadata": {},
   "outputs": [
    {
     "data": {
      "text/plain": [
       "0     (-0.604, 0.382]\n",
       "1     (-0.604, 0.382]\n",
       "2      (0.675, 2.023]\n",
       "3      (0.675, 2.023]\n",
       "4    (-2.527, -0.604]\n",
       "5      (0.382, 0.675]\n",
       "6    (-2.527, -0.604]\n",
       "7      (0.382, 0.675]\n",
       "dtype: category\n",
       "Categories (4, interval[float64]): [(-2.527, -0.604] < (-0.604, 0.382] < (0.382, 0.675] < (0.675, 2.023]]"
      ]
     },
     "execution_count": 24,
     "metadata": {},
     "output_type": "execute_result"
    }
   ],
   "source": [
    "pd.qcut(a,4)"
   ]
  },
  {
   "cell_type": "code",
   "execution_count": 25,
   "metadata": {},
   "outputs": [
    {
     "data": {
      "text/plain": [
       "(0.675, 2.023]      2\n",
       "(0.382, 0.675]      2\n",
       "(-0.604, 0.382]     2\n",
       "(-2.527, -0.604]    2\n",
       "dtype: int64"
      ]
     },
     "execution_count": 25,
     "metadata": {},
     "output_type": "execute_result"
    }
   ],
   "source": [
    "pd.value_counts(pd.qcut(a,4))"
   ]
  }
 ],
 "metadata": {
  "kernelspec": {
   "display_name": "Python 3",
   "language": "python",
   "name": "python3"
  },
  "language_info": {
   "codemirror_mode": {
    "name": "ipython",
    "version": 3
   },
   "file_extension": ".py",
   "mimetype": "text/x-python",
   "name": "python",
   "nbconvert_exporter": "python",
   "pygments_lexer": "ipython3",
   "version": "3.5.3"
  }
 },
 "nbformat": 4,
 "nbformat_minor": 2
}

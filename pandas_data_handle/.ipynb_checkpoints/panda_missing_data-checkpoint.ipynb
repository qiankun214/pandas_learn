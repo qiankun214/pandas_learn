{
 "cells": [
  {
   "cell_type": "code",
   "execution_count": 1,
   "metadata": {},
   "outputs": [],
   "source": [
    "import pandas as pd\n",
    "import numpy as np"
   ]
  },
  {
   "cell_type": "markdown",
   "metadata": {},
   "source": [
    "# 检测缺失数据\n",
    "使用`.isnull()`或`.notnull()`可以检测出所有`NaN`值"
   ]
  },
  {
   "cell_type": "code",
   "execution_count": 6,
   "metadata": {},
   "outputs": [
    {
     "name": "stdout",
     "output_type": "stream",
     "text": [
      "0    1.029854\n",
      "1    0.760568\n",
      "2    0.079467\n",
      "3   -0.822699\n",
      "4         NaN\n",
      "5   -0.404240\n",
      "dtype: float64\n",
      "0    False\n",
      "1    False\n",
      "2    False\n",
      "3    False\n",
      "4     True\n",
      "5    False\n",
      "dtype: bool\n"
     ]
    }
   ],
   "source": [
    "a = pd.Series(np.random.randn(6))\n",
    "a[4] = np.NAN\n",
    "print(a)\n",
    "print(a.isnull())"
   ]
  },
  {
   "cell_type": "code",
   "execution_count": 8,
   "metadata": {},
   "outputs": [
    {
     "name": "stdout",
     "output_type": "stream",
     "text": [
      "          0         1         2         3\n",
      "0 -0.234529  0.312595  0.750550  0.021029\n",
      "1 -0.037202  0.585013  0.586366 -1.023269\n",
      "2  0.090427  0.004957       NaN  2.424920\n",
      "3 -1.591392  0.210765 -0.970668  1.757776\n",
      "      0     1      2     3\n",
      "0  True  True   True  True\n",
      "1  True  True   True  True\n",
      "2  True  True  False  True\n",
      "3  True  True   True  True\n"
     ]
    }
   ],
   "source": [
    "b = pd.DataFrame(np.random.randn(4,4))\n",
    "b[2][2] = np.NaN\n",
    "print(b)\n",
    "print(b.notnull())"
   ]
  },
  {
   "cell_type": "markdown",
   "metadata": {},
   "source": [
    "# 处理缺失值\n",
    "## 丢弃\n",
    "### Series丢弃缺失值\n",
    "使用`Series.dropna()`方法可丢弃缺失值"
   ]
  },
  {
   "cell_type": "code",
   "execution_count": 9,
   "metadata": {},
   "outputs": [
    {
     "name": "stdout",
     "output_type": "stream",
     "text": [
      "0    1.029854\n",
      "1    0.760568\n",
      "2    0.079467\n",
      "3   -0.822699\n",
      "4         NaN\n",
      "5   -0.404240\n",
      "dtype: float64\n",
      "0    1.029854\n",
      "1    0.760568\n",
      "2    0.079467\n",
      "3   -0.822699\n",
      "5   -0.404240\n",
      "dtype: float64\n"
     ]
    }
   ],
   "source": [
    "print(a)\n",
    "print(a.dropna())"
   ]
  },
  {
   "cell_type": "markdown",
   "metadata": {},
   "source": [
    "### DataFrame丢弃缺失值\n",
    "DataFrame使用`dropna()`方法时，可以传入以下参数\n",
    "- axis（默认0）：丢弃行（0）还是丢弃列（1）\n",
    "- how（默认\"\"）：有一个NaN就丢弃（默认）还是全是NaN才丢弃（\"all\"）"
   ]
  },
  {
   "cell_type": "code",
   "execution_count": 11,
   "metadata": {},
   "outputs": [
    {
     "name": "stdout",
     "output_type": "stream",
     "text": [
      "          0         1         2         3\n",
      "0 -0.234529  0.312595  0.750550  0.021029\n",
      "1 -0.037202  0.585013  0.586366 -1.023269\n",
      "2  0.090427  0.004957       NaN  2.424920\n",
      "3 -1.591392  0.210765 -0.970668  1.757776\n",
      "          0         1         2         3\n",
      "0 -0.234529  0.312595  0.750550  0.021029\n",
      "1 -0.037202  0.585013  0.586366 -1.023269\n",
      "3 -1.591392  0.210765 -0.970668  1.757776\n",
      "          0         1         3\n",
      "0 -0.234529  0.312595  0.021029\n",
      "1 -0.037202  0.585013 -1.023269\n",
      "2  0.090427  0.004957  2.424920\n",
      "3 -1.591392  0.210765  1.757776\n"
     ]
    }
   ],
   "source": [
    "print(b)\n",
    "print(b.dropna())\n",
    "print(b.dropna(axis=1))"
   ]
  },
  {
   "cell_type": "code",
   "execution_count": 12,
   "metadata": {},
   "outputs": [
    {
     "name": "stdout",
     "output_type": "stream",
     "text": [
      "          0         1         2         3\n",
      "0 -0.234529  0.312595  0.750550  0.021029\n",
      "1 -0.037202  0.585013  0.586366 -1.023269\n",
      "2  0.090427  0.004957       NaN  2.424920\n",
      "3 -1.591392  0.210765 -0.970668  1.757776\n"
     ]
    }
   ],
   "source": [
    "print(b.dropna(how=\"all\"))"
   ]
  },
  {
   "cell_type": "markdown",
   "metadata": {},
   "source": [
    "## 填充\n",
    "使用`.fillna()`方法可以将NaN值改为传入的数。传入字典可根据索引有选择的填充；传入`inplace=True`可以直接修改原数据"
   ]
  },
  {
   "cell_type": "code",
   "execution_count": 14,
   "metadata": {},
   "outputs": [
    {
     "name": "stdout",
     "output_type": "stream",
     "text": [
      "0    1.029854\n",
      "1    0.760568\n",
      "2    0.079467\n",
      "3   -0.822699\n",
      "4         NaN\n",
      "5   -0.404240\n",
      "dtype: float64\n",
      "0      1.029854\n",
      "1      0.760568\n",
      "2      0.079467\n",
      "3     -0.822699\n",
      "4    100.000000\n",
      "5     -0.404240\n",
      "dtype: float64\n",
      "0      1.029854\n",
      "1      0.760568\n",
      "2      0.079467\n",
      "3     -0.822699\n",
      "4    400.000000\n",
      "5     -0.404240\n",
      "dtype: float64\n"
     ]
    }
   ],
   "source": [
    "print(a)\n",
    "print(a.fillna(100))\n",
    "print(a.fillna({1:100,4:400}))"
   ]
  },
  {
   "cell_type": "code",
   "execution_count": 15,
   "metadata": {},
   "outputs": [
    {
     "name": "stdout",
     "output_type": "stream",
     "text": [
      "          0         1         2         3\n",
      "0 -0.234529  0.312595  0.750550  0.021029\n",
      "1 -0.037202  0.585013  0.586366 -1.023269\n",
      "2  0.090427  0.004957       NaN  2.424920\n",
      "3 -1.591392  0.210765 -0.970668  1.757776\n",
      "None\n",
      "          0         1         2         3\n",
      "0 -0.234529  0.312595  0.750550  0.021029\n",
      "1 -0.037202  0.585013  0.586366 -1.023269\n",
      "2  0.090427  0.004957  0.000000  2.424920\n",
      "3 -1.591392  0.210765 -0.970668  1.757776\n"
     ]
    }
   ],
   "source": [
    "print(b)\n",
    "print(b.fillna(0,inplace=True))\n",
    "print(b)"
   ]
  },
  {
   "cell_type": "code",
   "execution_count": null,
   "metadata": {},
   "outputs": [],
   "source": []
  }
 ],
 "metadata": {
  "kernelspec": {
   "display_name": "Python 3",
   "language": "python",
   "name": "python3"
  },
  "language_info": {
   "codemirror_mode": {
    "name": "ipython",
    "version": 3
   },
   "file_extension": ".py",
   "mimetype": "text/x-python",
   "name": "python",
   "nbconvert_exporter": "python",
   "pygments_lexer": "ipython3",
   "version": "3.5.3"
  }
 },
 "nbformat": 4,
 "nbformat_minor": 2
}

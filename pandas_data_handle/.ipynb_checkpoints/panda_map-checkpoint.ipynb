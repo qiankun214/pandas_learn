{
 "cells": [
  {
   "cell_type": "code",
   "execution_count": 1,
   "metadata": {},
   "outputs": [],
   "source": [
    "import pandas as pd\n",
    "import numpy as np"
   ]
  },
  {
   "cell_type": "markdown",
   "metadata": {},
   "source": [
    "# Serise的map方法\n",
    "`.map()`可以做元素级修正，用法与Python原生的map相似，传入一个单输入单输出的函数，所有元素按该函数操作"
   ]
  },
  {
   "cell_type": "code",
   "execution_count": 2,
   "metadata": {},
   "outputs": [
    {
     "data": {
      "text/html": [
       "<div>\n",
       "<style>\n",
       "    .dataframe thead tr:only-child th {\n",
       "        text-align: right;\n",
       "    }\n",
       "\n",
       "    .dataframe thead th {\n",
       "        text-align: left;\n",
       "    }\n",
       "\n",
       "    .dataframe tbody tr th {\n",
       "        vertical-align: top;\n",
       "    }\n",
       "</style>\n",
       "<table border=\"1\" class=\"dataframe\">\n",
       "  <thead>\n",
       "    <tr style=\"text-align: right;\">\n",
       "      <th></th>\n",
       "      <th>0</th>\n",
       "      <th>1</th>\n",
       "      <th>2</th>\n",
       "      <th>3</th>\n",
       "    </tr>\n",
       "  </thead>\n",
       "  <tbody>\n",
       "    <tr>\n",
       "      <th>0</th>\n",
       "      <td>1.896122</td>\n",
       "      <td>-0.363448</td>\n",
       "      <td>-0.837619</td>\n",
       "      <td>0.318831</td>\n",
       "    </tr>\n",
       "    <tr>\n",
       "      <th>1</th>\n",
       "      <td>-1.391127</td>\n",
       "      <td>-1.278210</td>\n",
       "      <td>-0.451603</td>\n",
       "      <td>-0.630656</td>\n",
       "    </tr>\n",
       "    <tr>\n",
       "      <th>2</th>\n",
       "      <td>0.390797</td>\n",
       "      <td>0.564124</td>\n",
       "      <td>-0.273792</td>\n",
       "      <td>0.177817</td>\n",
       "    </tr>\n",
       "    <tr>\n",
       "      <th>3</th>\n",
       "      <td>-0.527218</td>\n",
       "      <td>-1.618269</td>\n",
       "      <td>0.592156</td>\n",
       "      <td>1.467145</td>\n",
       "    </tr>\n",
       "  </tbody>\n",
       "</table>\n",
       "</div>"
      ],
      "text/plain": [
       "          0         1         2         3\n",
       "0  1.896122 -0.363448 -0.837619  0.318831\n",
       "1 -1.391127 -1.278210 -0.451603 -0.630656\n",
       "2  0.390797  0.564124 -0.273792  0.177817\n",
       "3 -0.527218 -1.618269  0.592156  1.467145"
      ]
     },
     "execution_count": 2,
     "metadata": {},
     "output_type": "execute_result"
    }
   ],
   "source": [
    "a = pd.DataFrame(np.random.randn(4,4))\n",
    "a"
   ]
  },
  {
   "cell_type": "code",
   "execution_count": 3,
   "metadata": {},
   "outputs": [
    {
     "data": {
      "text/plain": [
       "0    4.896122\n",
       "1    1.608873\n",
       "2    3.390797\n",
       "3    2.472782\n",
       "Name: 0, dtype: float64"
      ]
     },
     "execution_count": 3,
     "metadata": {},
     "output_type": "execute_result"
    }
   ],
   "source": [
    "a[0].map(lambda x:x + 3)"
   ]
  },
  {
   "cell_type": "code",
   "execution_count": 4,
   "metadata": {},
   "outputs": [
    {
     "data": {
      "text/html": [
       "<div>\n",
       "<style>\n",
       "    .dataframe thead tr:only-child th {\n",
       "        text-align: right;\n",
       "    }\n",
       "\n",
       "    .dataframe thead th {\n",
       "        text-align: left;\n",
       "    }\n",
       "\n",
       "    .dataframe tbody tr th {\n",
       "        vertical-align: top;\n",
       "    }\n",
       "</style>\n",
       "<table border=\"1\" class=\"dataframe\">\n",
       "  <thead>\n",
       "    <tr style=\"text-align: right;\">\n",
       "      <th></th>\n",
       "      <th>0</th>\n",
       "      <th>1</th>\n",
       "      <th>2</th>\n",
       "      <th>3</th>\n",
       "      <th>4</th>\n",
       "    </tr>\n",
       "  </thead>\n",
       "  <tbody>\n",
       "    <tr>\n",
       "      <th>0</th>\n",
       "      <td>1.896122</td>\n",
       "      <td>-0.363448</td>\n",
       "      <td>-0.837619</td>\n",
       "      <td>0.318831</td>\n",
       "      <td>0.318831</td>\n",
       "    </tr>\n",
       "    <tr>\n",
       "      <th>1</th>\n",
       "      <td>-1.391127</td>\n",
       "      <td>-1.278210</td>\n",
       "      <td>-0.451603</td>\n",
       "      <td>-0.630656</td>\n",
       "      <td>0.630656</td>\n",
       "    </tr>\n",
       "    <tr>\n",
       "      <th>2</th>\n",
       "      <td>0.390797</td>\n",
       "      <td>0.564124</td>\n",
       "      <td>-0.273792</td>\n",
       "      <td>0.177817</td>\n",
       "      <td>0.177817</td>\n",
       "    </tr>\n",
       "    <tr>\n",
       "      <th>3</th>\n",
       "      <td>-0.527218</td>\n",
       "      <td>-1.618269</td>\n",
       "      <td>0.592156</td>\n",
       "      <td>1.467145</td>\n",
       "      <td>1.467145</td>\n",
       "    </tr>\n",
       "  </tbody>\n",
       "</table>\n",
       "</div>"
      ],
      "text/plain": [
       "          0         1         2         3         4\n",
       "0  1.896122 -0.363448 -0.837619  0.318831  0.318831\n",
       "1 -1.391127 -1.278210 -0.451603 -0.630656  0.630656\n",
       "2  0.390797  0.564124 -0.273792  0.177817  0.177817\n",
       "3 -0.527218 -1.618269  0.592156  1.467145  1.467145"
      ]
     },
     "execution_count": 4,
     "metadata": {},
     "output_type": "execute_result"
    }
   ],
   "source": [
    "a[4] = a[3].map(lambda x:abs(x))\n",
    "a"
   ]
  },
  {
   "cell_type": "markdown",
   "metadata": {},
   "source": [
    "# 索引的map方法\n",
    "索引对象也可以使用`.map()`方法做元素级操作"
   ]
  },
  {
   "cell_type": "code",
   "execution_count": 6,
   "metadata": {},
   "outputs": [
    {
     "data": {
      "text/html": [
       "<div>\n",
       "<style>\n",
       "    .dataframe thead tr:only-child th {\n",
       "        text-align: right;\n",
       "    }\n",
       "\n",
       "    .dataframe thead th {\n",
       "        text-align: left;\n",
       "    }\n",
       "\n",
       "    .dataframe tbody tr th {\n",
       "        vertical-align: top;\n",
       "    }\n",
       "</style>\n",
       "<table border=\"1\" class=\"dataframe\">\n",
       "  <thead>\n",
       "    <tr style=\"text-align: right;\">\n",
       "      <th></th>\n",
       "      <th>0</th>\n",
       "      <th>1</th>\n",
       "      <th>2</th>\n",
       "      <th>3</th>\n",
       "      <th>4</th>\n",
       "    </tr>\n",
       "  </thead>\n",
       "  <tbody>\n",
       "    <tr>\n",
       "      <th>0</th>\n",
       "      <td>1.896122</td>\n",
       "      <td>-0.363448</td>\n",
       "      <td>-0.837619</td>\n",
       "      <td>0.318831</td>\n",
       "      <td>0.318831</td>\n",
       "    </tr>\n",
       "    <tr>\n",
       "      <th>1</th>\n",
       "      <td>-1.391127</td>\n",
       "      <td>-1.278210</td>\n",
       "      <td>-0.451603</td>\n",
       "      <td>-0.630656</td>\n",
       "      <td>0.630656</td>\n",
       "    </tr>\n",
       "    <tr>\n",
       "      <th>2</th>\n",
       "      <td>0.390797</td>\n",
       "      <td>0.564124</td>\n",
       "      <td>-0.273792</td>\n",
       "      <td>0.177817</td>\n",
       "      <td>0.177817</td>\n",
       "    </tr>\n",
       "    <tr>\n",
       "      <th>3</th>\n",
       "      <td>-0.527218</td>\n",
       "      <td>-1.618269</td>\n",
       "      <td>0.592156</td>\n",
       "      <td>1.467145</td>\n",
       "      <td>1.467145</td>\n",
       "    </tr>\n",
       "  </tbody>\n",
       "</table>\n",
       "</div>"
      ],
      "text/plain": [
       "          0         1         2         3         4\n",
       "0  1.896122 -0.363448 -0.837619  0.318831  0.318831\n",
       "1 -1.391127 -1.278210 -0.451603 -0.630656  0.630656\n",
       "2  0.390797  0.564124 -0.273792  0.177817  0.177817\n",
       "3 -0.527218 -1.618269  0.592156  1.467145  1.467145"
      ]
     },
     "execution_count": 6,
     "metadata": {},
     "output_type": "execute_result"
    }
   ],
   "source": [
    "a"
   ]
  },
  {
   "cell_type": "code",
   "execution_count": 9,
   "metadata": {},
   "outputs": [
    {
     "data": {
      "text/html": [
       "<div>\n",
       "<style>\n",
       "    .dataframe thead tr:only-child th {\n",
       "        text-align: right;\n",
       "    }\n",
       "\n",
       "    .dataframe thead th {\n",
       "        text-align: left;\n",
       "    }\n",
       "\n",
       "    .dataframe tbody tr th {\n",
       "        vertical-align: top;\n",
       "    }\n",
       "</style>\n",
       "<table border=\"1\" class=\"dataframe\">\n",
       "  <thead>\n",
       "    <tr style=\"text-align: right;\">\n",
       "      <th></th>\n",
       "      <th>0</th>\n",
       "      <th>1</th>\n",
       "      <th>2</th>\n",
       "      <th>3</th>\n",
       "      <th>4</th>\n",
       "    </tr>\n",
       "  </thead>\n",
       "  <tbody>\n",
       "    <tr>\n",
       "      <th>1</th>\n",
       "      <td>1.896122</td>\n",
       "      <td>-0.363448</td>\n",
       "      <td>-0.837619</td>\n",
       "      <td>0.318831</td>\n",
       "      <td>0.318831</td>\n",
       "    </tr>\n",
       "    <tr>\n",
       "      <th>2</th>\n",
       "      <td>-1.391127</td>\n",
       "      <td>-1.278210</td>\n",
       "      <td>-0.451603</td>\n",
       "      <td>-0.630656</td>\n",
       "      <td>0.630656</td>\n",
       "    </tr>\n",
       "    <tr>\n",
       "      <th>3</th>\n",
       "      <td>0.390797</td>\n",
       "      <td>0.564124</td>\n",
       "      <td>-0.273792</td>\n",
       "      <td>0.177817</td>\n",
       "      <td>0.177817</td>\n",
       "    </tr>\n",
       "    <tr>\n",
       "      <th>4</th>\n",
       "      <td>-0.527218</td>\n",
       "      <td>-1.618269</td>\n",
       "      <td>0.592156</td>\n",
       "      <td>1.467145</td>\n",
       "      <td>1.467145</td>\n",
       "    </tr>\n",
       "  </tbody>\n",
       "</table>\n",
       "</div>"
      ],
      "text/plain": [
       "          0         1         2         3         4\n",
       "1  1.896122 -0.363448 -0.837619  0.318831  0.318831\n",
       "2 -1.391127 -1.278210 -0.451603 -0.630656  0.630656\n",
       "3  0.390797  0.564124 -0.273792  0.177817  0.177817\n",
       "4 -0.527218 -1.618269  0.592156  1.467145  1.467145"
      ]
     },
     "execution_count": 9,
     "metadata": {},
     "output_type": "execute_result"
    }
   ],
   "source": [
    "a.index = a.index.map(lambda x:x+1)\n",
    "a"
   ]
  }
 ],
 "metadata": {
  "kernelspec": {
   "display_name": "Python 3",
   "language": "python",
   "name": "python3"
  },
  "language_info": {
   "codemirror_mode": {
    "name": "ipython",
    "version": 3
   },
   "file_extension": ".py",
   "mimetype": "text/x-python",
   "name": "python",
   "nbconvert_exporter": "python",
   "pygments_lexer": "ipython3",
   "version": "3.5.3"
  }
 },
 "nbformat": 4,
 "nbformat_minor": 2
}

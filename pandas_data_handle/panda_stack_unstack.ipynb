{
 "cells": [
  {
   "cell_type": "code",
   "execution_count": 1,
   "metadata": {},
   "outputs": [],
   "source": [
    "import pandas as pd\n",
    "import numpy as np"
   ]
  },
  {
   "cell_type": "markdown",
   "metadata": {},
   "source": [
    "# stack\n",
    "`.stack()`方法可以将DataFrame的行或者列旋转到列或者行上成为层次化索引"
   ]
  },
  {
   "cell_type": "code",
   "execution_count": 7,
   "metadata": {},
   "outputs": [
    {
     "data": {
      "text/html": [
       "<div>\n",
       "<style>\n",
       "    .dataframe thead tr:only-child th {\n",
       "        text-align: right;\n",
       "    }\n",
       "\n",
       "    .dataframe thead th {\n",
       "        text-align: left;\n",
       "    }\n",
       "\n",
       "    .dataframe tbody tr th {\n",
       "        vertical-align: top;\n",
       "    }\n",
       "</style>\n",
       "<table border=\"1\" class=\"dataframe\">\n",
       "  <thead>\n",
       "    <tr style=\"text-align: right;\">\n",
       "      <th></th>\n",
       "      <th>0</th>\n",
       "      <th>1</th>\n",
       "      <th>2</th>\n",
       "      <th>3</th>\n",
       "    </tr>\n",
       "  </thead>\n",
       "  <tbody>\n",
       "    <tr>\n",
       "      <th>0</th>\n",
       "      <td>-1.001941</td>\n",
       "      <td>1.076806</td>\n",
       "      <td>-1.448259</td>\n",
       "      <td>0.832331</td>\n",
       "    </tr>\n",
       "    <tr>\n",
       "      <th>1</th>\n",
       "      <td>0.988913</td>\n",
       "      <td>1.165181</td>\n",
       "      <td>-2.017086</td>\n",
       "      <td>0.531139</td>\n",
       "    </tr>\n",
       "    <tr>\n",
       "      <th>2</th>\n",
       "      <td>0.181621</td>\n",
       "      <td>0.085461</td>\n",
       "      <td>NaN</td>\n",
       "      <td>0.773129</td>\n",
       "    </tr>\n",
       "    <tr>\n",
       "      <th>3</th>\n",
       "      <td>-0.794653</td>\n",
       "      <td>0.189747</td>\n",
       "      <td>0.956248</td>\n",
       "      <td>-0.154617</td>\n",
       "    </tr>\n",
       "  </tbody>\n",
       "</table>\n",
       "</div>"
      ],
      "text/plain": [
       "          0         1         2         3\n",
       "0 -1.001941  1.076806 -1.448259  0.832331\n",
       "1  0.988913  1.165181 -2.017086  0.531139\n",
       "2  0.181621  0.085461       NaN  0.773129\n",
       "3 -0.794653  0.189747  0.956248 -0.154617"
      ]
     },
     "execution_count": 7,
     "metadata": {},
     "output_type": "execute_result"
    }
   ],
   "source": [
    "a = pd.DataFrame(np.random.randn(4,4))\n",
    "a[2][2] = np.nan\n",
    "a"
   ]
  },
  {
   "cell_type": "code",
   "execution_count": 10,
   "metadata": {},
   "outputs": [
    {
     "data": {
      "text/plain": [
       "0  0   -1.001941\n",
       "   1    1.076806\n",
       "   2   -1.448259\n",
       "   3    0.832331\n",
       "1  0    0.988913\n",
       "   1    1.165181\n",
       "   2   -2.017086\n",
       "   3    0.531139\n",
       "2  0    0.181621\n",
       "   1    0.085461\n",
       "   3    0.773129\n",
       "3  0   -0.794653\n",
       "   1    0.189747\n",
       "   2    0.956248\n",
       "   3   -0.154617\n",
       "dtype: float64"
      ]
     },
     "execution_count": 10,
     "metadata": {},
     "output_type": "execute_result"
    }
   ],
   "source": [
    "c = a.stack()\n",
    "c"
   ]
  },
  {
   "cell_type": "markdown",
   "metadata": {},
   "source": [
    "传入`dropna=False`可以保留NaN值"
   ]
  },
  {
   "cell_type": "code",
   "execution_count": 11,
   "metadata": {},
   "outputs": [
    {
     "data": {
      "text/plain": [
       "0  0   -1.001941\n",
       "   1    1.076806\n",
       "   2   -1.448259\n",
       "   3    0.832331\n",
       "1  0    0.988913\n",
       "   1    1.165181\n",
       "   2   -2.017086\n",
       "   3    0.531139\n",
       "2  0    0.181621\n",
       "   1    0.085461\n",
       "   2         NaN\n",
       "   3    0.773129\n",
       "3  0   -0.794653\n",
       "   1    0.189747\n",
       "   2    0.956248\n",
       "   3   -0.154617\n",
       "dtype: float64"
      ]
     },
     "execution_count": 11,
     "metadata": {},
     "output_type": "execute_result"
    }
   ],
   "source": [
    "b = a.stack(dropna=False)\n",
    "b"
   ]
  },
  {
   "cell_type": "markdown",
   "metadata": {},
   "source": [
    "# unstack\n",
    "`unstack`方法可以将一个具有层次化索引的Series的最内层索引旋转为行得到一个DataFrame"
   ]
  },
  {
   "cell_type": "code",
   "execution_count": 12,
   "metadata": {},
   "outputs": [
    {
     "data": {
      "text/html": [
       "<div>\n",
       "<style>\n",
       "    .dataframe thead tr:only-child th {\n",
       "        text-align: right;\n",
       "    }\n",
       "\n",
       "    .dataframe thead th {\n",
       "        text-align: left;\n",
       "    }\n",
       "\n",
       "    .dataframe tbody tr th {\n",
       "        vertical-align: top;\n",
       "    }\n",
       "</style>\n",
       "<table border=\"1\" class=\"dataframe\">\n",
       "  <thead>\n",
       "    <tr style=\"text-align: right;\">\n",
       "      <th></th>\n",
       "      <th>0</th>\n",
       "      <th>1</th>\n",
       "      <th>2</th>\n",
       "      <th>3</th>\n",
       "    </tr>\n",
       "  </thead>\n",
       "  <tbody>\n",
       "    <tr>\n",
       "      <th>0</th>\n",
       "      <td>-1.001941</td>\n",
       "      <td>1.076806</td>\n",
       "      <td>-1.448259</td>\n",
       "      <td>0.832331</td>\n",
       "    </tr>\n",
       "    <tr>\n",
       "      <th>1</th>\n",
       "      <td>0.988913</td>\n",
       "      <td>1.165181</td>\n",
       "      <td>-2.017086</td>\n",
       "      <td>0.531139</td>\n",
       "    </tr>\n",
       "    <tr>\n",
       "      <th>2</th>\n",
       "      <td>0.181621</td>\n",
       "      <td>0.085461</td>\n",
       "      <td>NaN</td>\n",
       "      <td>0.773129</td>\n",
       "    </tr>\n",
       "    <tr>\n",
       "      <th>3</th>\n",
       "      <td>-0.794653</td>\n",
       "      <td>0.189747</td>\n",
       "      <td>0.956248</td>\n",
       "      <td>-0.154617</td>\n",
       "    </tr>\n",
       "  </tbody>\n",
       "</table>\n",
       "</div>"
      ],
      "text/plain": [
       "          0         1         2         3\n",
       "0 -1.001941  1.076806 -1.448259  0.832331\n",
       "1  0.988913  1.165181 -2.017086  0.531139\n",
       "2  0.181621  0.085461       NaN  0.773129\n",
       "3 -0.794653  0.189747  0.956248 -0.154617"
      ]
     },
     "execution_count": 12,
     "metadata": {},
     "output_type": "execute_result"
    }
   ],
   "source": [
    "b.unstack()"
   ]
  },
  {
   "cell_type": "code",
   "execution_count": 13,
   "metadata": {},
   "outputs": [
    {
     "data": {
      "text/html": [
       "<div>\n",
       "<style>\n",
       "    .dataframe thead tr:only-child th {\n",
       "        text-align: right;\n",
       "    }\n",
       "\n",
       "    .dataframe thead th {\n",
       "        text-align: left;\n",
       "    }\n",
       "\n",
       "    .dataframe tbody tr th {\n",
       "        vertical-align: top;\n",
       "    }\n",
       "</style>\n",
       "<table border=\"1\" class=\"dataframe\">\n",
       "  <thead>\n",
       "    <tr style=\"text-align: right;\">\n",
       "      <th></th>\n",
       "      <th>0</th>\n",
       "      <th>1</th>\n",
       "      <th>2</th>\n",
       "      <th>3</th>\n",
       "    </tr>\n",
       "  </thead>\n",
       "  <tbody>\n",
       "    <tr>\n",
       "      <th>0</th>\n",
       "      <td>-1.001941</td>\n",
       "      <td>1.076806</td>\n",
       "      <td>-1.448259</td>\n",
       "      <td>0.832331</td>\n",
       "    </tr>\n",
       "    <tr>\n",
       "      <th>1</th>\n",
       "      <td>0.988913</td>\n",
       "      <td>1.165181</td>\n",
       "      <td>-2.017086</td>\n",
       "      <td>0.531139</td>\n",
       "    </tr>\n",
       "    <tr>\n",
       "      <th>2</th>\n",
       "      <td>0.181621</td>\n",
       "      <td>0.085461</td>\n",
       "      <td>NaN</td>\n",
       "      <td>0.773129</td>\n",
       "    </tr>\n",
       "    <tr>\n",
       "      <th>3</th>\n",
       "      <td>-0.794653</td>\n",
       "      <td>0.189747</td>\n",
       "      <td>0.956248</td>\n",
       "      <td>-0.154617</td>\n",
       "    </tr>\n",
       "  </tbody>\n",
       "</table>\n",
       "</div>"
      ],
      "text/plain": [
       "          0         1         2         3\n",
       "0 -1.001941  1.076806 -1.448259  0.832331\n",
       "1  0.988913  1.165181 -2.017086  0.531139\n",
       "2  0.181621  0.085461       NaN  0.773129\n",
       "3 -0.794653  0.189747  0.956248 -0.154617"
      ]
     },
     "execution_count": 13,
     "metadata": {},
     "output_type": "execute_result"
    }
   ],
   "source": [
    "c.unstack()"
   ]
  }
 ],
 "metadata": {
  "kernelspec": {
   "display_name": "Python 3",
   "language": "python",
   "name": "python3"
  },
  "language_info": {
   "codemirror_mode": {
    "name": "ipython",
    "version": 3
   },
   "file_extension": ".py",
   "mimetype": "text/x-python",
   "name": "python",
   "nbconvert_exporter": "python",
   "pygments_lexer": "ipython3",
   "version": "3.5.3"
  }
 },
 "nbformat": 4,
 "nbformat_minor": 2
}

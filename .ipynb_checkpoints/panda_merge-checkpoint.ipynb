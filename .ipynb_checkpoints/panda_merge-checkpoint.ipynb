{
 "cells": [
  {
   "cell_type": "code",
   "execution_count": 1,
   "metadata": {},
   "outputs": [],
   "source": [
    "import pandas as pd\n",
    "import numpy as np"
   ]
  },
  {
   "cell_type": "markdown",
   "metadata": {},
   "source": [
    "# 根据某一个键将DataFrame合并\n",
    "使用`pandas.merge(a,b,on=)`方法可以将两个DataFrame（a和b）按共同具有的列（列索引key）合并，默认取交集"
   ]
  },
  {
   "cell_type": "code",
   "execution_count": 4,
   "metadata": {},
   "outputs": [
    {
     "name": "stdout",
     "output_type": "stream",
     "text": [
      "   a  b\n",
      "0  1  5\n",
      "1  2  6\n",
      "2  3  7 \n",
      "    a  c\n",
      "0  1  1\n",
      "1  3  2\n",
      "2  2  3\n"
     ]
    }
   ],
   "source": [
    "a = pd.DataFrame({\"a\":[1,2,3],\"b\":[5,6,7]})\n",
    "b = pd.DataFrame({\"a\":[1,3,2],\"c\":[1,2,3]})\n",
    "print(a,\"\\n\",b)"
   ]
  },
  {
   "cell_type": "code",
   "execution_count": 6,
   "metadata": {},
   "outputs": [
    {
     "name": "stdout",
     "output_type": "stream",
     "text": [
      "   a  b  c\n",
      "0  1  5  1\n",
      "1  2  6  3\n",
      "2  3  7  2\n"
     ]
    }
   ],
   "source": [
    "print(pd.merge(a,b,on=\"a\"))"
   ]
  },
  {
   "cell_type": "markdown",
   "metadata": {},
   "source": [
    "传入参数`how=`可以改变合并方式：\n",
    "- \"inner\":默认交集\n",
    "- \"outer\":默认并集，使用NaN补全\n",
    "- \"left\":以第一个传入的DataFrame的索引行为标准\n",
    "- \"right\":以第二个传入的DataFrame的索引为标准"
   ]
  },
  {
   "cell_type": "code",
   "execution_count": 10,
   "metadata": {},
   "outputs": [
    {
     "name": "stdout",
     "output_type": "stream",
     "text": [
      "   a  c\n",
      "0  1  1\n",
      "1  2  2\n",
      "2  4  3\n",
      "   a  b  c\n",
      "0  1  5  1\n",
      "1  2  6  2\n"
     ]
    }
   ],
   "source": [
    "c = a\n",
    "d = pd.DataFrame({\"a\":[1,2,4],\"c\":[1,2,3]})\n",
    "print(d)\n",
    "print(pd.merge(c,d,on=\"a\"))"
   ]
  },
  {
   "cell_type": "code",
   "execution_count": 11,
   "metadata": {},
   "outputs": [
    {
     "name": "stdout",
     "output_type": "stream",
     "text": [
      "   a    b    c\n",
      "0  1  5.0  1.0\n",
      "1  2  6.0  2.0\n",
      "2  3  7.0  NaN\n",
      "3  4  NaN  3.0\n"
     ]
    }
   ],
   "source": [
    "print(pd.merge(c,d,on=\"a\",how=\"outer\"))"
   ]
  },
  {
   "cell_type": "code",
   "execution_count": 12,
   "metadata": {},
   "outputs": [
    {
     "name": "stdout",
     "output_type": "stream",
     "text": [
      "   a  b    c\n",
      "0  1  5  1.0\n",
      "1  2  6  2.0\n",
      "2  3  7  NaN\n"
     ]
    }
   ],
   "source": [
    "print(pd.merge(c,d,on=\"a\",how=\"left\"))"
   ]
  },
  {
   "cell_type": "code",
   "execution_count": 13,
   "metadata": {},
   "outputs": [
    {
     "name": "stdout",
     "output_type": "stream",
     "text": [
      "   a    b  c\n",
      "0  1  5.0  1\n",
      "1  2  6.0  2\n",
      "2  4  NaN  3\n"
     ]
    }
   ],
   "source": [
    "print(pd.merge(c,d,on=\"a\",how=\"right\"))"
   ]
  },
  {
   "cell_type": "markdown",
   "metadata": {},
   "source": [
    "# 根据名称不同的键连接\n",
    "传入`left_on=`和`right_on=`可以根据不同键连接"
   ]
  },
  {
   "cell_type": "code",
   "execution_count": 17,
   "metadata": {},
   "outputs": [
    {
     "name": "stdout",
     "output_type": "stream",
     "text": [
      "   c  d\n",
      "0  1  1\n",
      "1  2  2\n",
      "2  3  4\n"
     ]
    }
   ],
   "source": [
    "e = pd.DataFrame({\"d\":[1,2,4],\"c\":[1,2,3]})\n",
    "print(e)"
   ]
  },
  {
   "cell_type": "code",
   "execution_count": 18,
   "metadata": {},
   "outputs": [
    {
     "name": "stdout",
     "output_type": "stream",
     "text": [
      "   a  b  c  d\n",
      "0  1  5  1  1\n",
      "1  2  6  2  2\n"
     ]
    }
   ],
   "source": [
    "print(pd.merge(a,e,left_on=\"a\",right_on=\"d\"))"
   ]
  },
  {
   "cell_type": "markdown",
   "metadata": {},
   "source": [
    "# 根据多个键连接"
   ]
  },
  {
   "cell_type": "code",
   "execution_count": 21,
   "metadata": {},
   "outputs": [],
   "source": [
    "f = pd.DataFrame({\"name\":[\"a\",\"b\",\"c\"],\"data\":[1,2,3],\"status\":[2,1,3]})\n",
    "g = pd.DataFrame({\"name\":[\"a\",\"b\",\"c\"],\"x_data\":[1,2,3],\"status\":[1,2,3]})"
   ]
  },
  {
   "cell_type": "code",
   "execution_count": 23,
   "metadata": {},
   "outputs": [
    {
     "name": "stdout",
     "output_type": "stream",
     "text": [
      "   data name  status  x_data\n",
      "0   1.0    a       2     NaN\n",
      "1   2.0    b       1     NaN\n",
      "2   3.0    c       3     3.0\n",
      "3   NaN    a       1     1.0\n",
      "4   NaN    b       2     2.0\n"
     ]
    }
   ],
   "source": [
    "print(pd.merge(f,g,on=[\"name\",\"status\"],how=\"outer\"))"
   ]
  },
  {
   "cell_type": "markdown",
   "metadata": {},
   "source": [
    "# 重复列名\n",
    "传入参数`suffixes=(\"x\",\"y\")`可以在重复的列名后添加后缀`a`,`b`"
   ]
  },
  {
   "cell_type": "code",
   "execution_count": 24,
   "metadata": {},
   "outputs": [
    {
     "name": "stdout",
     "output_type": "stream",
     "text": [
      "   data name  status_x  status_Y  x_data\n",
      "0     1    a         2         1       1\n",
      "1     2    b         1         2       2\n",
      "2     3    c         3         3       3\n"
     ]
    }
   ],
   "source": [
    "print(pd.merge(f,g,on=\"name\",suffixes=(\"_x\",\"_Y\")))"
   ]
  }
 ],
 "metadata": {
  "kernelspec": {
   "display_name": "Python 3",
   "language": "python",
   "name": "python3"
  },
  "language_info": {
   "codemirror_mode": {
    "name": "ipython",
    "version": 3
   },
   "file_extension": ".py",
   "mimetype": "text/x-python",
   "name": "python",
   "nbconvert_exporter": "python",
   "pygments_lexer": "ipython3",
   "version": "3.5.3"
  }
 },
 "nbformat": 4,
 "nbformat_minor": 2
}

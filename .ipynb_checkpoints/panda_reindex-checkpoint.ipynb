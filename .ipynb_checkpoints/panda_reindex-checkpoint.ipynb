{
 "cells": [
  {
   "cell_type": "markdown",
   "metadata": {},
   "source": [
    "# Panda学习2\n",
    "## 基本功能\n",
    "### 按索引重排\n",
    "使用`Series.reindex()`方法，可以按索引顺序重新排列一个Series,当某个索引不存在时，值为`NaN`"
   ]
  },
  {
   "cell_type": "code",
   "execution_count": 11,
   "metadata": {},
   "outputs": [],
   "source": [
    "import pandas as pd\n",
    "import numpy as np"
   ]
  },
  {
   "cell_type": "code",
   "execution_count": 12,
   "metadata": {},
   "outputs": [
    {
     "name": "stdout",
     "output_type": "stream",
     "text": [
      "source:\n",
      " a    1\n",
      "b    2\n",
      "c    3\n",
      "d    4\n",
      "dtype: int64\n",
      "after reindex:\n",
      " d    4\n",
      "c    3\n",
      "b    2\n",
      "a    1\n",
      "dtype: int64\n",
      "after reindex:\n",
      " d    4.0\n",
      "c    3.0\n",
      "b    2.0\n",
      "a    1.0\n",
      "e    NaN\n",
      "dtype: float64\n"
     ]
    }
   ],
   "source": [
    "data = pd.Series([1,2,3,4],index=['a','b','c','d'])\n",
    "print('source:\\n',data)\n",
    "print('after reindex:\\n',data.reindex(['d','c','b','a']))\n",
    "print('after reindex:\\n',data.reindex(['d','c','b','a','e']))"
   ]
  },
  {
   "cell_type": "markdown",
   "metadata": {},
   "source": [
    "使用`FramData.reindex()`方法，传入参数`index`可以重排行，传入参数`column`可以重排列，同样，若是包含不存在的索引会创建值为NaN的列或行"
   ]
  },
  {
   "cell_type": "code",
   "execution_count": 17,
   "metadata": {},
   "outputs": [
    {
     "name": "stdout",
     "output_type": "stream",
     "text": [
      "   1  2  3\n",
      "a  0  1  2\n",
      "b  3  4  5\n",
      "c  6  7  8\n",
      "reindex the row:\n",
      "    1  2  3\n",
      "c  6  7  8\n",
      "b  3  4  5\n",
      "a  0  1  2\n",
      "reindex the column:\n",
      "    3  2  1   0\n",
      "a  2  1  0 NaN\n",
      "b  5  4  3 NaN\n",
      "c  8  7  6 NaN\n"
     ]
    }
   ],
   "source": [
    "frame = pd.DataFrame(np.arange(9).reshape((3,3)),index=['a','b','c'],columns=[1,2,3])\n",
    "print(frame)\n",
    "print('reindex the row:\\n',frame.reindex(index=['c','b','a']))\n",
    "print('reindex the column:\\n',frame.reindex(columns=[3,2,1,0]))"
   ]
  },
  {
   "cell_type": "code",
   "execution_count": null,
   "metadata": {},
   "outputs": [],
   "source": []
  }
 ],
 "metadata": {
  "kernelspec": {
   "display_name": "Python 3",
   "language": "python",
   "name": "python3"
  },
  "language_info": {
   "codemirror_mode": {
    "name": "ipython",
    "version": 3
   },
   "file_extension": ".py",
   "mimetype": "text/x-python",
   "name": "python",
   "nbconvert_exporter": "python",
   "pygments_lexer": "ipython3",
   "version": "3.5.3"
  }
 },
 "nbformat": 4,
 "nbformat_minor": 2
}

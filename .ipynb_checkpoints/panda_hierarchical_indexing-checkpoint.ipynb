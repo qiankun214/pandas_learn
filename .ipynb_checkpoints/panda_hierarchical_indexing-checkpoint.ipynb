{
 "cells": [
  {
   "cell_type": "code",
   "execution_count": 1,
   "metadata": {},
   "outputs": [],
   "source": [
    "import pandas as pd\n",
    "import numpy as np"
   ]
  },
  {
   "cell_type": "markdown",
   "metadata": {},
   "source": [
    "# 层次化索引\n",
    "在一个轴上拥有多个索引级别，为层次化索引\n",
    "## Series的层次化索引"
   ]
  },
  {
   "cell_type": "code",
   "execution_count": 4,
   "metadata": {},
   "outputs": [
    {
     "name": "stdout",
     "output_type": "stream",
     "text": [
      "a  1    0.494095\n",
      "   2    0.860942\n",
      "b  1   -0.888777\n",
      "   2    0.089773\n",
      "dtype: float64\n"
     ]
    },
    {
     "data": {
      "text/plain": [
       "MultiIndex(levels=[['a', 'b'], [1, 2]],\n",
       "           labels=[[0, 0, 1, 1], [0, 1, 0, 1]])"
      ]
     },
     "execution_count": 4,
     "metadata": {},
     "output_type": "execute_result"
    }
   ],
   "source": [
    "a = pd.Series(np.random.randn(4),index=[[\"a\",\"a\",\"b\",\"b\"],[1,2,1,2]])\n",
    "print(a)\n",
    "a.index"
   ]
  },
  {
   "cell_type": "code",
   "execution_count": 8,
   "metadata": {},
   "outputs": [
    {
     "name": "stdout",
     "output_type": "stream",
     "text": [
      "0.494094724769 <class 'numpy.float64'>\n",
      "1    0.494095\n",
      "2    0.860942\n",
      "dtype: float64 <class 'pandas.core.series.Series'>\n"
     ]
    }
   ],
   "source": [
    "print(a[\"a\"][1],type(a[\"a\"][1]))\n",
    "print(a[\"a\"],type(a[\"a\"]))"
   ]
  },
  {
   "cell_type": "code",
   "execution_count": 9,
   "metadata": {},
   "outputs": [
    {
     "name": "stdout",
     "output_type": "stream",
     "text": [
      "a    0.494095\n",
      "b   -0.888777\n",
      "dtype: float64\n"
     ]
    }
   ],
   "source": [
    "print(a[:,1])"
   ]
  },
  {
   "cell_type": "markdown",
   "metadata": {},
   "source": [
    "## DataFrame的层次化索引"
   ]
  },
  {
   "cell_type": "code",
   "execution_count": 14,
   "metadata": {},
   "outputs": [
    {
     "name": "stdout",
     "output_type": "stream",
     "text": [
      "            a                   b          \n",
      "            1         2         1         2\n",
      "1 1 -0.136009 -0.046841  1.111815 -0.816332\n",
      "  2 -0.681994 -1.295141 -1.141866 -0.784326\n",
      "2 1  0.385674  0.520862 -0.439898  0.866908\n",
      "  2 -0.778311 -0.903412 -0.621226  0.366785\n"
     ]
    }
   ],
   "source": [
    "b = pd.DataFrame(np.random.randn(4,4),index=[[1,1,2,2],[1,2,1,2]],columns=[[\"a\",\"a\",\"b\",\"b\"],[1,2,1,2]])\n",
    "print(b)"
   ]
  },
  {
   "cell_type": "markdown",
   "metadata": {},
   "source": [
    "## DataFrame与层次化Series相互转化"
   ]
  },
  {
   "cell_type": "code",
   "execution_count": 16,
   "metadata": {},
   "outputs": [
    {
     "name": "stdout",
     "output_type": "stream",
     "text": [
      "0  0   -1.284332\n",
      "   1    1.247881\n",
      "   2   -0.055405\n",
      "1  0    0.761875\n",
      "   1   -0.126662\n",
      "   2   -0.911591\n",
      "2  0   -0.679783\n",
      "   1   -0.201970\n",
      "   2   -0.165232\n",
      "dtype: float64\n",
      "          0         1         2\n",
      "0 -1.284332  1.247881 -0.055405\n",
      "1  0.761875 -0.126662 -0.911591\n",
      "2 -0.679783 -0.201970 -0.165232\n"
     ]
    }
   ],
   "source": [
    "a = pd.DataFrame(np.random.randn(3,3))\n",
    "a = a.stack()\n",
    "print(a)\n",
    "print(a.unstack())"
   ]
  },
  {
   "cell_type": "markdown",
   "metadata": {},
   "source": [
    "# 多层索引操作\n",
    "## 排列索引顺序\n",
    "使用`.swaplevel()`可以交换索引的顺序"
   ]
  },
  {
   "cell_type": "code",
   "execution_count": 17,
   "metadata": {},
   "outputs": [
    {
     "name": "stdout",
     "output_type": "stream",
     "text": [
      "            a                   b          \n",
      "            1         2         1         2\n",
      "1 1 -0.136009 -0.046841  1.111815 -0.816332\n",
      "  2 -0.681994 -1.295141 -1.141866 -0.784326\n",
      "2 1  0.385674  0.520862 -0.439898  0.866908\n",
      "  2 -0.778311 -0.903412 -0.621226  0.366785\n",
      "            a                   b          \n",
      "            1         2         1         2\n",
      "1 1 -0.136009 -0.046841  1.111815 -0.816332\n",
      "2 1 -0.681994 -1.295141 -1.141866 -0.784326\n",
      "1 2  0.385674  0.520862 -0.439898  0.866908\n",
      "2 2 -0.778311 -0.903412 -0.621226  0.366785\n"
     ]
    }
   ],
   "source": [
    "print(b)\n",
    "print(b.swaplevel(1,0))"
   ]
  },
  {
   "cell_type": "markdown",
   "metadata": {},
   "source": [
    "使用`.sort_index(level=<a>)`可以对数据按第a个索引排序"
   ]
  },
  {
   "cell_type": "code",
   "execution_count": 19,
   "metadata": {},
   "outputs": [
    {
     "name": "stdout",
     "output_type": "stream",
     "text": [
      "            a                   b          \n",
      "            1         2         1         2\n",
      "1 1 -0.136009 -0.046841  1.111815 -0.816332\n",
      "  2  0.385674  0.520862 -0.439898  0.866908\n",
      "2 1 -0.681994 -1.295141 -1.141866 -0.784326\n",
      "  2 -0.778311 -0.903412 -0.621226  0.366785\n"
     ]
    }
   ],
   "source": [
    "print(b.swaplevel(1,0).sort_index(level=0))"
   ]
  },
  {
   "cell_type": "markdown",
   "metadata": {},
   "source": [
    "## 根据级别统计\n",
    "汇总统计的函数中传入`level=`参数可以根据某层索引进行统计"
   ]
  },
  {
   "cell_type": "code",
   "execution_count": 24,
   "metadata": {},
   "outputs": [
    {
     "name": "stdout",
     "output_type": "stream",
     "text": [
      "          a                   b          \n",
      "          1         2         1         2\n",
      "1 -0.818003 -1.341981 -0.030051 -1.600659\n",
      "2 -0.392637 -0.382550 -1.061124  1.233693\n",
      "            1         2\n",
      "1 1  0.975806 -0.863173\n",
      "  2 -1.823860 -2.079467\n",
      "2 1 -0.054225  1.387771\n",
      "  2 -1.399537 -0.536627\n"
     ]
    }
   ],
   "source": [
    "print(b.sum(level=0))\n",
    "print(b.sum(level=1,axis=1))"
   ]
  },
  {
   "cell_type": "markdown",
   "metadata": {},
   "source": [
    "## 多层索引与列互换\n",
    "使用`.set_index()`可以将一列转为索引，传入`drop=`参数可以决定是否将转为索引的列丢弃"
   ]
  },
  {
   "cell_type": "code",
   "execution_count": 28,
   "metadata": {},
   "outputs": [
    {
     "name": "stdout",
     "output_type": "stream",
     "text": [
      "          0         1         2         3\n",
      "0  0.026205 -0.881022  0.817465  0.004099\n",
      "1  0.735007  1.530284 -0.539946  0.661112\n",
      "2  0.690341 -0.690820  0.017885  0.297844\n",
      "3  0.692861 -0.315491 -0.518512  0.735319\n"
     ]
    }
   ],
   "source": [
    "b = pd.DataFrame(np.random.randn(4,4))\n",
    "print(b)"
   ]
  },
  {
   "cell_type": "code",
   "execution_count": 33,
   "metadata": {},
   "outputs": [
    {
     "name": "stdout",
     "output_type": "stream",
     "text": [
      "                  0         2         3\n",
      "1                                      \n",
      "-0.881022  0.026205  0.817465  0.004099\n",
      " 1.530284  0.735007 -0.539946  0.661112\n",
      "-0.690820  0.690341  0.017885  0.297844\n",
      "-0.315491  0.692861 -0.518512  0.735319\n",
      "                            0         1         2         3\n",
      "1         2                                                \n",
      "-0.881022  0.817465  0.026205 -0.881022  0.817465  0.004099\n",
      " 1.530284 -0.539946  0.735007  1.530284 -0.539946  0.661112\n",
      "-0.690820  0.017885  0.690341 -0.690820  0.017885  0.297844\n",
      "-0.315491 -0.518512  0.692861 -0.315491 -0.518512  0.735319\n"
     ]
    }
   ],
   "source": [
    "print(b.set_index(1))\n",
    "print(b.set_index([1,2],drop=False))"
   ]
  },
  {
   "cell_type": "markdown",
   "metadata": {},
   "source": [
    "使用`.reset_index()`可以将层次化索引变成列"
   ]
  },
  {
   "cell_type": "code",
   "execution_count": 37,
   "metadata": {},
   "outputs": [
    {
     "name": "stdout",
     "output_type": "stream",
     "text": [
      "                  0         2         3\n",
      "1                                      \n",
      "-0.881022  0.026205  0.817465  0.004099\n",
      " 1.530284  0.735007 -0.539946  0.661112\n",
      "-0.690820  0.690341  0.017885  0.297844\n",
      "-0.315491  0.692861 -0.518512  0.735319\n",
      "          1         0         2         3\n",
      "0 -0.881022  0.026205  0.817465  0.004099\n",
      "1  1.530284  0.735007 -0.539946  0.661112\n",
      "2 -0.690820  0.690341  0.017885  0.297844\n",
      "3 -0.315491  0.692861 -0.518512  0.735319\n"
     ]
    }
   ],
   "source": [
    "d = b.set_index(1)\n",
    "print(d)\n",
    "print(d.reset_index())"
   ]
  }
 ],
 "metadata": {
  "kernelspec": {
   "display_name": "Python 3",
   "language": "python",
   "name": "python3"
  },
  "language_info": {
   "codemirror_mode": {
    "name": "ipython",
    "version": 3
   },
   "file_extension": ".py",
   "mimetype": "text/x-python",
   "name": "python",
   "nbconvert_exporter": "python",
   "pygments_lexer": "ipython3",
   "version": "3.5.3"
  }
 },
 "nbformat": 4,
 "nbformat_minor": 2
}
